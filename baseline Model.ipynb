{
 "cells": [
  {
   "cell_type": "code",
   "execution_count": 1,
   "metadata": {},
   "outputs": [],
   "source": [
    "import pandas as pd\n",
    "import matplotlib.pyplot as plt\n",
    "import numpy as np\n",
    "nfile = 'data/phishing_final.xlsx'\n",
    "DATA_PATH= 'data/'"
   ]
  },
  {
   "cell_type": "code",
   "execution_count": 2,
   "metadata": {},
   "outputs": [],
   "source": [
    "emailpool = pd.read_excel(nfile,sheet_name = 'emailpool')\n",
    "spear_phishing = pd.read_excel(nfile,sheet_name='spear_phishing')\n",
    "userclassification = pd.read_excel(nfile,sheet_name='userclassification')\n",
    "rater = pd.read_csv(DATA_PATH+'rater.compiled.csv')\n",
    "raterids = rater['UserID'].tolist()\n",
    "spear_phishing = spear_phishing[spear_phishing['TargetID'].isin(rater['UserID'])]"
   ]
  },
  {
   "cell_type": "code",
   "execution_count": 3,
   "metadata": {},
   "outputs": [],
   "source": [
    "userclassification = userclassification[userclassification['RaterID'].isin(rater['UserID'])]\n",
    "emailpool['spearIndicator'] = [0 for _ in range(len(emailpool))]\n",
    "spear_phishing['spearIndicator'] = [1 for _ in range(len(spear_phishing))]\n",
    "con_emails = pd.concat([emailpool[['Email','Subject','spearIndicator','ID']].rename(columns = {'ID':'PhishID'}),\n",
    "                        spear_phishing[['EmailCont','Subject','spearIndicator','id']].rename(columns ={'EmailCont':'Email','id':'PhishID'})])\n",
    "con_emails = con_emails.reset_index()"
   ]
  },
  {
   "cell_type": "code",
   "execution_count": 4,
   "metadata": {},
   "outputs": [],
   "source": [
    "con_emails['index'] = con_emails.index\n",
    "userclassification = pd.merge(con_emails[['index','spearIndicator','PhishID']],userclassification,on = ['PhishID','spearIndicator'], how = 'right')"
   ]
  },
  {
   "cell_type": "code",
   "execution_count": 8,
   "metadata": {},
   "outputs": [
    {
     "data": {
      "text/plain": [
       "1    210\n",
       "2     52\n",
       "0     15\n",
       "Name: Type, dtype: int64"
      ]
     },
     "execution_count": 8,
     "metadata": {},
     "output_type": "execute_result"
    }
   ],
   "source": [
    "emailpool['Type'].value_counts()"
   ]
  },
  {
   "cell_type": "code",
   "execution_count": 6,
   "metadata": {},
   "outputs": [
    {
     "data": {
      "text/plain": [
       "(252, 40)"
      ]
     },
     "execution_count": 6,
     "metadata": {},
     "output_type": "execute_result"
    }
   ],
   "source": [
    "spear_phishing.shape"
   ]
  },
  {
   "cell_type": "code",
   "execution_count": 12,
   "metadata": {},
   "outputs": [
    {
     "name": "stdout",
     "output_type": "stream",
     "text": [
      "number of classification:  6712\n",
      "number of end-users:  84\n",
      "average emails classifed per user: 79.9\n",
      "Number of spear phishing email: 252\n",
      "Number of mass phishing:  15\n",
      "Number of ham email:  210\n",
      "Number of promotion email:  52\n"
     ]
    }
   ],
   "source": [
    "print('number of classification: ',len(userclassification))\n",
    "print('number of end-users: ',len(userclassification['RaterID'].unique()))\n",
    "print('average emails classifed per user:', round(len(userclassification)/len(userclassification['RaterID'].unique()),2))\n",
    "print('Number of spear phishing email:',spear_phishing.shape[0])\n",
    "print('Number of mass phishing: ',emailpool['Type'].value_counts()[0])\n",
    "print('Number of ham email: ',emailpool['Type'].value_counts()[1])\n",
    "print('Number of promotion email: ',emailpool['Type'].value_counts()[2])"
   ]
  },
  {
   "cell_type": "code",
   "execution_count": 8,
   "metadata": {},
   "outputs": [],
   "source": [
    "surveyfields = ['important', 'action', 'information', 'project',\n",
    "       'meeting', 'spam', 'deadline', 'other']\n",
    "summarydf = userclassification.groupby(['spearIndicator','PhishID'],as_index= False)[surveyfields].mean()#.loc[0,3]"
   ]
  },
  {
   "cell_type": "code",
   "execution_count": 9,
   "metadata": {},
   "outputs": [],
   "source": [
    "con_emails =pd.merge(con_emails,summarydf,on = ['spearIndicator','PhishID'])#.dropna()"
   ]
  },
  {
   "cell_type": "code",
   "execution_count": 10,
   "metadata": {},
   "outputs": [],
   "source": [
    "def getresponse(Response):\n",
    "    if Response>=3:\n",
    "        return 'Ignore'\n",
    "    else:\n",
    "        return 'Response'\n",
    "userclassification['Response_'] = userclassification['Response'].apply(getresponse)\n"
   ]
  },
  {
   "cell_type": "code",
   "execution_count": 11,
   "metadata": {},
   "outputs": [
    {
     "data": {
      "text/plain": [
       "Index(['ID', 'Attachment', 'Email', 'Subject', 'Type', 'User',\n",
       "       'spearIndicator'],\n",
       "      dtype='object')"
      ]
     },
     "execution_count": 11,
     "metadata": {},
     "output_type": "execute_result"
    }
   ],
   "source": [
    "emailpool.keys()"
   ]
  },
  {
   "cell_type": "code",
   "execution_count": 12,
   "metadata": {},
   "outputs": [
    {
     "data": {
      "text/plain": [
       "Index(['id', 'UserID', 'Trial', 'Cost', 'Goal', 'Templete', 'Capital',\n",
       "       'Subject', 'EmailCont', 'SubjectEdit', 'BodyEdit', 'KeyStroke',\n",
       "       'NumEdit', 'Practice_I', 'Status', 'ProfileTS', 'AttackStartTS',\n",
       "       'AttackFinishTS', 'LoadTS', 'SubmitTS', 'Impersonation', 'Offer',\n",
       "       'Followup', 'Threaten', 'Failure', 'Authority', 'Peers', 'Time',\n",
       "       'Pretend', 'Interest', 'Other', 'Self_eval', 'User_info', 'TargetID',\n",
       "       'Tone', 'Personal_', 'Professional_', 'Family_', 'Interest_',\n",
       "       'spearIndicator'],\n",
       "      dtype='object')"
      ]
     },
     "execution_count": 12,
     "metadata": {},
     "output_type": "execute_result"
    }
   ],
   "source": [
    "spear_phishing.keys()"
   ]
  },
  {
   "cell_type": "code",
   "execution_count": 13,
   "metadata": {},
   "outputs": [],
   "source": [
    "import re\n",
    "from sklearn.feature_extraction.text import TfidfVectorizer, CountVectorizer\n",
    "import nltk\n",
    "wpt = nltk.WordPunctTokenizer()\n",
    "stop_words = nltk.corpus.stopwords.words('english')\n",
    "add_stop_words = ['nbsp','n','p','r',';','&']\n",
    "stop_words.extend(add_stop_words)\n",
    "\n",
    "def preprocess_text(sentence,punctuation = True):\n",
    "    # Removing html tags\n",
    "    sentence = remove_tags(sentence)\n",
    "#    sentence = process_NER(sentence)\n",
    "    # Remove punctuations and numbers\n",
    "    if punctuation:\n",
    "        sentence = re.sub('[^a-zA-Z]', ' ', sentence)\n",
    "    sentence = re.sub('nbsp',' ',sentence)\n",
    "    # Single character removal\n",
    "    sentence = re.sub(r\"\\s+[a-zA-Z]\\s+\", ' ', sentence)\n",
    "    # Removing multiple spaces\n",
    "    sentence = re.sub(r'\\s+', ' ', sentence)\n",
    "    tokens = wpt.tokenize(sentence)\n",
    "    # filter stopwords out of document\n",
    "    filtered_tokens = [token for token in tokens if token not in stop_words]\n",
    "    # re-create document from filtered tokens\n",
    "    sentence = ' '.join(filtered_tokens)\n",
    "    return sentence\n",
    "TAG_RE = re.compile(r'<[^>]+>')\n",
    "\n",
    "def remove_tags(text):\n",
    "    return TAG_RE.sub('', text)\n",
    "def trim_string(x,first_n_words):\n",
    "    x = x.split(maxsplit=first_n_words)\n",
    "    return ' '.join(x[:first_n_words]).replace('\\n', '').replace('\\r', '')"
   ]
  },
  {
   "cell_type": "code",
   "execution_count": 14,
   "metadata": {},
   "outputs": [
    {
     "data": {
      "text/plain": [
       "Index(['ID', 'Attachment', 'Email', 'Subject', 'Type', 'User',\n",
       "       'spearIndicator'],\n",
       "      dtype='object')"
      ]
     },
     "execution_count": 14,
     "metadata": {},
     "output_type": "execute_result"
    }
   ],
   "source": [
    "emailpool.keys()"
   ]
  },
  {
   "cell_type": "code",
   "execution_count": 15,
   "metadata": {},
   "outputs": [],
   "source": [
    "con_emails['cleantext'] = (con_emails['Subject'].astype('str')+' '+con_emails['Email'].astype('str')).apply(preprocess_text)\n",
    "con_emails['cleantext_withpunc'] = (con_emails['Subject'].astype('str')+' '+con_emails['Email'].astype('str')).apply(preprocess_text,punctuation=False)\n"
   ]
  },
  {
   "cell_type": "code",
   "execution_count": 16,
   "metadata": {},
   "outputs": [],
   "source": [
    "from sklearn.feature_extraction.text import TfidfVectorizer\n",
    "from sklearn.decomposition import TruncatedSVD\n",
    "from sklearn.pipeline import Pipeline\n",
    "documents = con_emails['cleantext'] \n",
    "#Raw documents to tf-idf matrix (or normal count could be done too) \n",
    "vectorizer = TfidfVectorizer(stop_words='english', \n",
    "                             use_idf=True, \n",
    "                             smooth_idf=True)\n",
    "#SVD for dimensionality reduction\n",
    "svd_model = TruncatedSVD(n_components=300,         # num dimensions\n",
    "                         algorithm='randomized',\n",
    "                         n_iter=10)\n",
    "#Pipe tf-idf and SVD, apply on our input documents\n",
    "svd_transformer = Pipeline([('tfidf', vectorizer), \n",
    "                            ('svd', svd_model)])\n",
    "svd_matrix = svd_transformer.fit_transform(documents)"
   ]
  },
  {
   "cell_type": "code",
   "execution_count": 17,
   "metadata": {},
   "outputs": [
    {
     "name": "stdout",
     "output_type": "stream",
     "text": [
      "Total word vectors: 1070971\n"
     ]
    }
   ],
   "source": [
    "import spacy\n",
    "nlp = spacy.load('en_vectors_web_lg')\n",
    "total_vectors = len(nlp.vocab.vectors)\n",
    "print('Total word vectors:', total_vectors)"
   ]
  },
  {
   "cell_type": "code",
   "execution_count": 18,
   "metadata": {},
   "outputs": [],
   "source": [
    "unique_words = list(set([word for sublist in [doc.split() for doc in con_emails['cleantext']] for word in sublist]))\n",
    "unique_words.sort()\n",
    "word_glove_vectors = np.array([nlp(word).vector for word in unique_words])"
   ]
  },
  {
   "cell_type": "code",
   "execution_count": 19,
   "metadata": {},
   "outputs": [
    {
     "data": {
      "text/plain": [
       "(6213, 300)"
      ]
     },
     "execution_count": 19,
     "metadata": {},
     "output_type": "execute_result"
    }
   ],
   "source": [
    "word_glove_vectors.shape"
   ]
  },
  {
   "cell_type": "code",
   "execution_count": 20,
   "metadata": {},
   "outputs": [],
   "source": [
    "count_vect = CountVectorizer(analyzer='word', token_pattern=r'\\w{1,}',vocabulary = unique_words)\n",
    "count_vect.fit(con_emails['cleantext'])\n",
    "\n",
    "# transform the training and validation data using count vectorizer object\n",
    "xtrain_count =  count_vect.transform(con_emails['cleantext'])\n",
    "wordlist = count_vect.get_feature_names()\n",
    "\n",
    "\n",
    "X = xtrain_count.todense()\n",
    "glove_vector = np.dot(np.array(X),np.array(word_glove_vectors))\n"
   ]
  },
  {
   "cell_type": "code",
   "execution_count": 21,
   "metadata": {},
   "outputs": [],
   "source": [
    "con_emails['important'] = (con_emails['important']-1)/8\n",
    "import sklearn\n",
    "\n",
    "simmatrix_svd = sklearn.metrics.pairwise.cosine_similarity(svd_matrix,svd_matrix) \n",
    "simmatrix_glove = sklearn.metrics.pairwise.cosine_similarity(glove_vector,glove_vector) \n",
    "\n",
    "average_surveymatrix = con_emails[surveyfields].fillna(1).values\n",
    "simmatrix_averageSurvey = sklearn.metrics.pairwise.cosine_similarity(average_surveymatrix,average_surveymatrix) \n",
    "\n",
    "surveymatrix = userclassification[surveyfields].fillna(1).values\n",
    "simmatirx_survey = sklearn.metrics.pairwise.cosine_similarity(surveymatrix,surveymatrix) "
   ]
  },
  {
   "cell_type": "code",
   "execution_count": 22,
   "metadata": {},
   "outputs": [
    {
     "data": {
      "text/plain": [
       "(529, 529)"
      ]
     },
     "execution_count": 22,
     "metadata": {},
     "output_type": "execute_result"
    }
   ],
   "source": [
    "simmatrix_svd.shape"
   ]
  },
  {
   "cell_type": "code",
   "execution_count": 23,
   "metadata": {},
   "outputs": [
    {
     "data": {
      "text/plain": [
       "(6712, 6712)"
      ]
     },
     "execution_count": 23,
     "metadata": {},
     "output_type": "execute_result"
    }
   ],
   "source": [
    "simmatirx_survey.shape"
   ]
  },
  {
   "cell_type": "code",
   "execution_count": 43,
   "metadata": {},
   "outputs": [
    {
     "data": {
      "text/plain": [
       "(6712, 6712)"
      ]
     },
     "execution_count": 43,
     "metadata": {},
     "output_type": "execute_result"
    }
   ],
   "source": [
    "import pickle\n",
    "output = open('./data/glovematrix.pkl', 'wb')\n",
    "pickle.dump(simmatrix_glove, output)\n",
    "output.close()\n",
    "simmatirx_survey.shape"
   ]
  },
  {
   "cell_type": "code",
   "execution_count": 24,
   "metadata": {},
   "outputs": [
    {
     "ename": "NameError",
     "evalue": "name 'diffmatrix' is not defined",
     "output_type": "error",
     "traceback": [
      "\u001b[1;31m---------------------------------------------------------------------------\u001b[0m",
      "\u001b[1;31mNameError\u001b[0m                                 Traceback (most recent call last)",
      "\u001b[1;32m<ipython-input-24-f7aefbd37a2f>\u001b[0m in \u001b[0;36m<module>\u001b[1;34m\u001b[0m\n\u001b[0;32m      1\u001b[0m \u001b[0mnmax\u001b[0m \u001b[1;33m=\u001b[0m \u001b[1;36m0.20827\u001b[0m\u001b[1;33m\u001b[0m\u001b[1;33m\u001b[0m\u001b[0m\n\u001b[0;32m      2\u001b[0m \u001b[1;33m\u001b[0m\u001b[0m\n\u001b[1;32m----> 3\u001b[1;33m \u001b[0mnp\u001b[0m\u001b[1;33m.\u001b[0m\u001b[0mwhere\u001b[0m\u001b[1;33m(\u001b[0m\u001b[0mnp\u001b[0m\u001b[1;33m.\u001b[0m\u001b[0mabs\u001b[0m\u001b[1;33m(\u001b[0m\u001b[0mdiffmatrix\u001b[0m\u001b[1;33m[\u001b[0m\u001b[1;33m:\u001b[0m\u001b[1;36m30\u001b[0m\u001b[1;33m,\u001b[0m\u001b[1;33m:\u001b[0m\u001b[1;36m30\u001b[0m\u001b[1;33m]\u001b[0m\u001b[1;33m-\u001b[0m\u001b[0mnmax\u001b[0m\u001b[1;33m)\u001b[0m\u001b[1;33m<\u001b[0m\u001b[1;36m0.0001\u001b[0m\u001b[1;33m)\u001b[0m\u001b[1;33m\u001b[0m\u001b[1;33m\u001b[0m\u001b[0m\n\u001b[0m",
      "\u001b[1;31mNameError\u001b[0m: name 'diffmatrix' is not defined"
     ]
    }
   ],
   "source": [
    "nmax = 0.20827\n",
    "\n",
    "np.where(np.abs(diffmatrix[:30,:30]-nmax)<0.0001)"
   ]
  },
  {
   "cell_type": "code",
   "execution_count": null,
   "metadata": {},
   "outputs": [],
   "source": [
    "np.sort(diffmatrix[:14,:14])[:,-1]"
   ]
  },
  {
   "cell_type": "code",
   "execution_count": 65,
   "metadata": {},
   "outputs": [
    {
     "data": {
      "text/plain": [
       "(0.8777176739808868, 0.7285203942671994)"
      ]
     },
     "execution_count": 65,
     "metadata": {},
     "output_type": "execute_result"
    }
   ],
   "source": [
    "a,b = 2,12\n",
    "simmatrix_glove[a,b],simmatrix_averageSurvey[a,b]"
   ]
  },
  {
   "cell_type": "code",
   "execution_count": 66,
   "metadata": {},
   "outputs": [
    {
     "data": {
      "text/html": [
       "<p>Reference number:&nbsp;108-4596473-8009841 FF&nbsp;</p><p>&nbsp;</p><p>Hello,&nbsp;</p><p>&nbsp;</p><p>Amazon was unable to confirm important details about your Amazon Web Services (AWS) Account. Your AWS account has been suspended as a result.&nbsp;</p><p>&nbsp;</p><p>Please verify&nbsp;your account details to confirm the payment information needed&nbsp;for your Amazon Web Services Account.&nbsp;</p><p>Updating your information will also ensure that you are protected from security attacks.</p><p><a href=\"http://Amazon5ecurity.com\" onclick=\"return false;\">Update and Verify Your Payment Method</a></p><p>&nbsp;</p><p>Failure to Update Payment Method by 02/01/2019 will result in <strong>complete deletion of account</strong>.</p><p>&nbsp;</p><p>Account Details&nbsp;</p><p>Account #108-4596473-8009841&nbsp;</p><p>&nbsp;</p><p>If you have any other questions please don&#39;t hesitate to contact customer service. If you have any questions about this particular email please include the reference number seen on the top of the email. Please do not reply to this e-mail directly.</p><p>&nbsp;</p><p>We hope we were able to be of assistance.</p><p>&nbsp;</p><p>Amazon IT Team,</p><p>Conditions of Use Privacy Notice &nbsp;1996-2015, Amazon.com, Inc. or its affiliates 05/10/2019</p>"
      ],
      "text/plain": [
       "<IPython.core.display.HTML object>"
      ]
     },
     "metadata": {},
     "output_type": "display_data"
    },
    {
     "name": "stdout",
     "output_type": "stream",
     "text": [
      "----------------------------------------\n"
     ]
    },
    {
     "data": {
      "text/html": [
       "<p>Dear Sir or Madam:</p><p>&nbsp; &nbsp; &nbsp; &nbsp; &nbsp; &nbsp; &nbsp; &nbsp; &nbsp; &nbsp; &nbsp; &nbsp; &nbsp; &nbsp; &nbsp; &nbsp; &nbsp;Hi I was informed that I would have to get in touch with you to get all of your info put into the new system. Sadly your current boss will be leaving the company shortly and I will be taking his spot. I just need you to update your information in the form given below: <br>Your First and Last Name -<br>Your employee ID -<br>Your designation -<br>Your contact number<br>Your address -<br>. The deadline for the information update is one week from the date of this email. I look forward to getting to know you!</p><p>&nbsp;</p><p>Best Regards,</p><p>Bill</p>"
      ],
      "text/plain": [
       "<IPython.core.display.HTML object>"
      ]
     },
     "metadata": {},
     "output_type": "display_data"
    },
    {
     "data": {
      "text/plain": [
       "(0.8777176739808868, 0.7285203942671994, 0.337160587310791)"
      ]
     },
     "execution_count": 66,
     "metadata": {},
     "output_type": "execute_result"
    }
   ],
   "source": [
    "from IPython.core.display import display, HTML\n",
    "\n",
    "\n",
    "diffmatrix = simmatrix_glove-simmatrix_averageSurvey\n",
    "display(HTML(con_emails['Email'][a]))\n",
    "print('-'*40)\n",
    "display(HTML(con_emails['Email'][b]))\n",
    "\n",
    "simmatrix_glove[a,b],simmatrix_averageSurvey[a,b],BERT_Sim(emailcorpus[a],emailcorpus[b],model_semantic)"
   ]
  },
  {
   "cell_type": "code",
   "execution_count": 28,
   "metadata": {},
   "outputs": [
    {
     "data": {
      "text/plain": [
       "spearIndicator    0.000000\n",
       "PhishID           2.000000\n",
       "important         5.445319\n",
       "action            0.829787\n",
       "information       0.170213\n",
       "project           0.148936\n",
       "meeting           0.042553\n",
       "spam              0.382979\n",
       "deadline          0.021277\n",
       "other             0.063830\n",
       "Name: 2, dtype: float64"
      ]
     },
     "execution_count": 28,
     "metadata": {},
     "output_type": "execute_result"
    }
   ],
   "source": [
    "summarydf.loc[a]"
   ]
  },
  {
   "cell_type": "code",
   "execution_count": 29,
   "metadata": {},
   "outputs": [
    {
     "data": {
      "text/plain": [
       "spearIndicator     0.000000\n",
       "PhishID           12.000000\n",
       "important          4.579783\n",
       "action             0.304348\n",
       "information        0.739130\n",
       "project            0.152174\n",
       "meeting            0.086957\n",
       "spam               0.565217\n",
       "deadline           0.065217\n",
       "other              0.021739\n",
       "Name: 12, dtype: float64"
      ]
     },
     "execution_count": 29,
     "metadata": {},
     "output_type": "execute_result"
    }
   ],
   "source": [
    "summarydf.loc[b]"
   ]
  },
  {
   "cell_type": "code",
   "execution_count": 31,
   "metadata": {},
   "outputs": [
    {
     "data": {
      "image/png": "[encoded data removed]",
      "text/plain": [
       "<Figure size 720x360 with 4 Axes>"
      ]
     },
     "metadata": {
      "needs_background": "light"
     },
     "output_type": "display_data"
    }
   ],
   "source": [
    "import seaborn as sns;# sns.set_theme()\n",
    "mask = np.zeros_like(simmatrix_glove)\n",
    "mask[np.triu_indices_from(mask)] = True\n",
    "plt.figure(figsize = (10,5))\n",
    "plt.subplot(1,2,1)\n",
    "ax = sns.heatmap(simmatrix_glove,mask = mask, vmin=0, vmax=1)\n",
    "ax.set(xticklabels=[],yticklabels=[],title ='Semantics(Glove)')\n",
    "plt.subplot(1,2,2)\n",
    "ax = sns.heatmap(simmatrix_averageSurvey,mask = mask, vmin=0, vmax=1)\n",
    "ax.set(xticklabels=[],yticklabels=[],title ='User survey')\n",
    "plt.tight_layout()\n",
    "plt.savefig('Sim.png')"
   ]
  },
  {
   "cell_type": "code",
   "execution_count": 33,
   "metadata": {},
   "outputs": [
    {
     "data": {
      "text/plain": [
       "(0.10589761588202941, 0.0)"
      ]
     },
     "execution_count": 33,
     "metadata": {},
     "output_type": "execute_result"
    }
   ],
   "source": [
    "import scipy.stats\n",
    "x = simmatrix_glove.flatten()\n",
    "y = simmatrix_averageSurvey.flatten()\n",
    "scipy.stats.pearsonr(x,y)"
   ]
  },
  {
   "cell_type": "code",
   "execution_count": 34,
   "metadata": {},
   "outputs": [],
   "source": [
    "def cosinedistance(a,b):\n",
    "    return a.dot(b)/(np.linalg.norm(a)*np.linalg.norm(b))\n",
    "#def cosinedistance(a,b):\n",
    "#    return simmatrix_glove[a,b]"
   ]
  },
  {
   "cell_type": "code",
   "execution_count": 35,
   "metadata": {},
   "outputs": [],
   "source": [
    "#cosinedistance(1,3)"
   ]
  },
  {
   "cell_type": "code",
   "execution_count": 36,
   "metadata": {},
   "outputs": [
    {
     "data": {
      "text/plain": [
       "(6712, 8)"
      ]
     },
     "execution_count": 36,
     "metadata": {},
     "output_type": "execute_result"
    }
   ],
   "source": [
    "surveymatrix.shape"
   ]
  },
  {
   "cell_type": "code",
   "execution_count": 37,
   "metadata": {},
   "outputs": [],
   "source": [
    "# Agent"
   ]
  },
  {
   "cell_type": "code",
   "execution_count": 1,
   "metadata": {},
   "outputs": [],
   "source": [
    "from sentence_transformers import SentenceTransformer, util\n",
    "import numpy as np\n",
    "#model = SentenceTransformer('stsb-roberta-large')\n",
    "model_save_path = 'data/model/'\n",
    "model = SentenceTransformer(model_save_path)\n",
    "model_semantic = SentenceTransformer('nli-distilroberta-base-v2')"
   ]
  },
  {
   "cell_type": "code",
   "execution_count": 2,
   "metadata": {},
   "outputs": [
    {
     "name": "stdout",
     "output_type": "stream",
     "text": [
      "Sentence 1: I like Python because I can build AI applications\n",
      "Sentence 2: I like Python because I can do data analytics\n",
      "Similarity score: 0.9281961917877197\n"
     ]
    }
   ],
   "source": [
    "sentence1 = \"I like Python because I can build AI applications\"\n",
    "sentence2 = \"I like Python because I can do data analytics\"\n",
    "# encode sentences to get their embeddings\n",
    "embedding1 = model.encode(sentence1, convert_to_tensor=True)\n",
    "embedding2 = model.encode(sentence2, convert_to_tensor=True)\n",
    "# compute similarity scores of two embeddings\n",
    "cosine_scores = util.pytorch_cos_sim(embedding1, embedding2)\n",
    "print(\"Sentence 1:\", sentence1)\n",
    "print(\"Sentence 2:\", sentence2)\n",
    "print(\"Similarity score:\", cosine_scores.item())"
   ]
  },
  {
   "cell_type": "code",
   "execution_count": 4,
   "metadata": {},
   "outputs": [
    {
     "data": {
      "text/plain": [
       "torch.Size([768])"
      ]
     },
     "execution_count": 4,
     "metadata": {},
     "output_type": "execute_result"
    }
   ],
   "source": [
    "embedding1.shape"
   ]
  },
  {
   "cell_type": "code",
   "execution_count": 40,
   "metadata": {},
   "outputs": [],
   "source": [
    "def BERT_Sim(sentence1,sentence2,model):\n",
    "    embedding1 = model.encode(sentence1, convert_to_tensor=True)\n",
    "    embedding2 = model.encode(sentence2, convert_to_tensor=True)\n",
    "    # compute similarity scores of two embeddings\n",
    "    cosine_scores = util.pytorch_cos_sim(embedding1, embedding2)\n",
    "    return cosine_scores.item()\n"
   ]
  },
  {
   "cell_type": "code",
   "execution_count": null,
   "metadata": {},
   "outputs": [],
   "source": [
    "con_emails.to_csv('data/emails_survey_combined.csv',index = False)"
   ]
  },
  {
   "cell_type": "code",
   "execution_count": 41,
   "metadata": {},
   "outputs": [],
   "source": [
    "userclassification['important'] = (userclassification['important']-1)/8\n",
    "emailcorpus = con_emails['cleantext'].tolist()\n",
    "emailcorpuspunc = con_emails['cleantext_withpunc'].tolist()\n",
    "userresponse = userclassification[['important', 'action', 'information', 'project',\n",
    "       'meeting', 'spam', 'deadline', 'other']].values\n",
    "\n",
    "#userresponse = normalize(userresponse)"
   ]
  },
  {
   "cell_type": "code",
   "execution_count": 42,
   "metadata": {},
   "outputs": [
    {
     "data": {
      "text/plain": [
       "0        0\n",
       "1        1\n",
       "2        2\n",
       "3        3\n",
       "4        4\n",
       "      ... \n",
       "524    524\n",
       "525    525\n",
       "526    526\n",
       "527    527\n",
       "528    528\n",
       "Name: index, Length: 529, dtype: int64"
      ]
     },
     "execution_count": 42,
     "metadata": {},
     "output_type": "execute_result"
    }
   ],
   "source": [
    "con_emails['index']"
   ]
  },
  {
   "cell_type": "code",
   "execution_count": 43,
   "metadata": {},
   "outputs": [
    {
     "data": {
      "text/plain": [
       "529"
      ]
     },
     "execution_count": 43,
     "metadata": {},
     "output_type": "execute_result"
    }
   ],
   "source": [
    "len(emailcorpus)"
   ]
  },
  {
   "cell_type": "code",
   "execution_count": 44,
   "metadata": {},
   "outputs": [],
   "source": [
    "auser = userclassification[userclassification['RaterID']==raterids[0]].sort_values('Starttime')"
   ]
  },
  {
   "cell_type": "code",
   "execution_count": 45,
   "metadata": {},
   "outputs": [
    {
     "data": {
      "text/plain": [
       "array([79, 62, 17, 74,  9])"
      ]
     },
     "execution_count": 45,
     "metadata": {},
     "output_type": "execute_result"
    }
   ],
   "source": [
    "np.random.seed(5)\n",
    "#auser.sample(frac = 1)['index']\n",
    "np.random.randint(1,100,5)"
   ]
  },
  {
   "cell_type": "code",
   "execution_count": 61,
   "metadata": {},
   "outputs": [],
   "source": [
    "from pyibl import Agent, similarity\n",
    "from random import random\n",
    "import math\n"
   ]
  },
  {
   "cell_type": "code",
   "execution_count": 48,
   "metadata": {},
   "outputs": [
    {
     "name": "stdout",
     "output_type": "stream",
     "text": [
      "----------------------------------------\n",
      "Your USPS Change Address Confirmation table width height px tr td border px solid black padding px table th text align center button background color border none color white padding px px text align center text decoration none display inline block font size px margin px px cursor pointer Hi Thanks submitting Change Address signing Informed Delivery You receive email Informed Delivery USPS regarding next steps complete signup process Your Change Address Order Submitted August Start Forwarding Date August Confirmation Code View orderMail arrive new address postal business days yourmove effective date OR file date whichever date later Please look Official USPS Change Address Welcome Kit new address soon You able verify Change Address information get valuable savings help move\n",
      "----------------------------------------\n",
      "Spice Up Your Valentine Day Plans At Escape The Room Add An Escape To Date Night This Year Dig Escape The RoomEnhance The Valentine Day ExperienceBooking room Escape Room perfect addition Valentine Day especially planned yet Only minutes needed fit night fun romance Whether married years starting build romance escape rooms perfect significant change normal date night something memorable exciting BOOK NOW https escapetheroom com pittsburgh\n"
     ]
    }
   ],
   "source": [
    "#Glove\n",
    "a = 22\n",
    "b = 29\n",
    "print('-'*40)\n",
    "print(emailcorpus[a])\n",
    "print('-'*40)\n",
    "print(emailcorpus[b])\n"
   ]
  },
  {
   "cell_type": "code",
   "execution_count": 49,
   "metadata": {},
   "outputs": [],
   "source": [
    "#[email index, response ]\n",
    "from sklearn.metrics import precision_score\n",
    "from sklearn.metrics import recall_score\n",
    "from sklearn.metrics import accuracy_score\n",
    "def negate(r):\n",
    "    if r =='Response':\n",
    "        return 'Ignore'\n",
    "    else:\n",
    "        return 'Response'\n",
    "\n",
    "def getPerformance(a,b):\n",
    "    return [accuracy_score(a,b),precision_score(a,b,pos_label ='Response'),recall_score(a,b,pos_label='Response')]"
   ]
  },
  {
   "cell_type": "code",
   "execution_count": 50,
   "metadata": {},
   "outputs": [],
   "source": [
    "counts = pd.DataFrame(userclassification.groupby('RaterID')['index'].count())"
   ]
  },
  {
   "cell_type": "code",
   "execution_count": null,
   "metadata": {},
   "outputs": [],
   "source": [
    "a = Agent(\"Pet Purchaser\", [\"species\", \"state\"])\n",
    "a.populate(0, [\"parrot\", \"dead\"])\n",
    "a.populate(10, [\"parrot\", \"squawking\"])\n",
    "a.choose([\"parrot\", \"dead\"], [\"parrot\", \"squawking\"])"
   ]
  },
  {
   "cell_type": "code",
   "execution_count": 51,
   "metadata": {},
   "outputs": [
    {
     "name": "stdout",
     "output_type": "stream",
     "text": [
      "Wall time: 0 ns\n"
     ]
    }
   ],
   "source": [
    "%%time\n",
    "import random\n",
    "from tqdm import tqdm\n",
    "train_rep = 1000\n",
    "penalties = [1,5,30]#,50,90] \n",
    "#penalties = [90]\n",
    "\n",
    "accruacy=[]\n",
    "labels = ['Accuracy','Percision','Recall']\n",
    "similar = {}\n",
    "## IBL Agent\n",
    "def train_agent(userid,seeds,Simfunction,randonmization = True,survey = False, train_ratio=0.8,train_rep = 1):\n",
    "    auser = userclassification[userclassification['RaterID']==userid]#.sort_values('Starttime')\n",
    "    subaccruacy = {'UserID':userid}\n",
    "    for penalty in penalties:\n",
    "        performance = []\n",
    "        for seed in seeds:\n",
    "            groundtruth,predicted = [],[]\n",
    "            #randomize the order\n",
    "            if randonmization:\n",
    "                np.random.seed(seed)\n",
    "                auser = auser.sample(frac = 1)\n",
    "                #np.random.seed(None)\n",
    "            agent = Agent(userid, ['email','decison'])\n",
    "            similarity(Simfunction,\"email\")\n",
    "            agent.mismatch_penalty = penalty\n",
    "            #survey need to comment in \n",
    "            if survey:\n",
    "                #use the survey response or unique emails; Reset index would l\n",
    "                auser['index'] =auser.index\n",
    "            array = auser[['index','Response_']].values            \n",
    "            train,valid = array[:int(train_ratio*len(array))],array[int(len(array)*train_ratio):]\n",
    "            \n",
    "            for _ in range(train_rep):\n",
    "#                random.shuffle(train)\n",
    "                for x in train:\n",
    "                    #print(x)\n",
    "                    agent.populate(1, list(x))\n",
    "                    agent.populate(-1, [x[0],negate(x[1])])                    \n",
    "            for x in valid:\n",
    "                choise = agent.choose(list(x),[x[0],negate(x[1])])\n",
    "                groundtruth.append(x[1])\n",
    "                predicted.append(choise[1])\n",
    "                #print(choise,x)\n",
    "                agent.respond(0)\n",
    "            performance.append(getPerformance(groundtruth,predicted))\n",
    "        performance = np.mean(np.array(performance),axis =0)\n",
    "        performance_var = np.var(np.array(performance),axis =0)\n",
    "        for i in range(len(labels)):\n",
    "            subaccruacy[str(penalty)+'_'+labels[i]] = performance[i]\n",
    "        for i in range(len(labels)): \n",
    "            subaccruacy[str(penalty)+'_var_'+labels[i]] = performance[i]/len(seeds)\n",
    "    #array.append(subaccruacy)\n",
    "    return subaccruacy"
   ]
  },
  {
   "cell_type": "code",
   "execution_count": 52,
   "metadata": {},
   "outputs": [],
   "source": [
    "## 1. Add random seed \n",
    "## 2. increase rep \n",
    "## 3. Randomize the order of the 1000 trial; \n",
    "## 4. IBL model; "
   ]
  },
  {
   "cell_type": "code",
   "execution_count": 76,
   "metadata": {},
   "outputs": [],
   "source": [
    "import pickle\n",
    "similarsurvey = {}\n",
    "similar = {}\n",
    "\n",
    "similar = pickle.load(open('./data/similar_semantics.pkl','rb'))\n",
    "similarsurvey = pickle.load(open('./data/similar_survey.pkl','rb'))\n",
    "def getDocSimLSA(a,b):\n",
    "    return simmatrix_svd[a,b]\n",
    "\n",
    "def getDocSimGlove(a,b):\n",
    "\n",
    "    return simmatrix_glove[a,b]\n",
    "\n",
    "def getDocSimSurvey(a,b):\n",
    "    return simmatirx_survey[a,b]\n",
    "\n",
    "def getDocSimBertSurvey(a,b):\n",
    "    #\n",
    "    key = str(a)+'_'+str(b)\n",
    "    if key not in similarsurvey:\n",
    "        sim = BERT_Sim(emailcorpus[a],emailcorpus[b],model)\n",
    "        similarsurvey[key] = sim\n",
    "    return similarsurvey[key]\n",
    "\n",
    "def getDocSimBert(a,b):\n",
    "    #\n",
    "    key = str(a)+'_'+str(b)\n",
    "    if key not in similar:\n",
    "        sim = BERT_Sim(emailcorpus[a],emailcorpus[b],model_semantic)\n",
    "        similar[key] = sim\n",
    "    return similar[key]"
   ]
  },
  {
   "cell_type": "raw",
   "metadata": {},
   "source": [
    "for each particpant:\n",
    "    run (n) times:\"\n",
    "        randomize\n",
    "        split train set 50%/ test set 50%\n",
    "or      split train set 80%/ test set 20%\n",
    "\n",
    "        train {\n",
    "            m rep #1000/ 1\n",
    "        }\n",
    "        test{\n",
    "            1 rep\n",
    "        }\n",
    "        performance metrics \n",
    "    mean performance metrics "
   ]
  },
  {
   "cell_type": "code",
   "execution_count": 83,
   "metadata": {},
   "outputs": [],
   "source": [
    "\n",
    "\n",
    "np.random.seed(8)\n",
    "train_ratios = [0.5,0.8]\n",
    "rep = 100\n",
    "seeds = np.random.randint(1,100,rep)\n",
    "\n",
    "simmethods = {#'LSA':getDocSimLSA,\n",
    "             #'Glove':getDocSimGlove,\n",
    "             'Survey':getDocSimSurvey,\n",
    "             'Survey_bert':getDocSimBertSurvey,\n",
    "             'Semantic_Bert':getDocSimBert}\n"
   ]
  },
  {
   "cell_type": "code",
   "execution_count": 84,
   "metadata": {},
   "outputs": [
    {
     "name": "stderr",
     "output_type": "stream",
     "text": [
      "  0%|                                                                                           | 0/84 [00:00<?, ?it/s]"
     ]
    },
    {
     "name": "stdout",
     "output_type": "stream",
     "text": [
      "Survey_bert   0.8\n"
     ]
    },
    {
     "name": "stderr",
     "output_type": "stream",
     "text": [
      "100%|██████████████████████████████████████████████████████████████████████████████████| 84/84 [01:14<00:00,  1.13it/s]\n"
     ]
    },
    {
     "data": {
      "text/plain": [
       "1_Accuracy          0.617814\n",
       "1_Percision         0.453417\n",
       "1_Recall            0.432788\n",
       "1_var_Accuracy      0.061781\n",
       "1_var_Percision     0.045342\n",
       "1_var_Recall        0.043279\n",
       "5_Accuracy          0.699322\n",
       "5_Percision         0.584806\n",
       "5_Recall            0.684288\n",
       "5_var_Accuracy      0.069932\n",
       "5_var_Percision     0.058481\n",
       "5_var_Recall        0.068429\n",
       "30_Accuracy         0.795730\n",
       "30_Percision        0.715004\n",
       "30_Recall           0.815267\n",
       "30_var_Accuracy     0.079573\n",
       "30_var_Percision    0.071500\n",
       "30_var_Recall       0.081527\n",
       "dtype: float64"
      ]
     },
     "execution_count": 84,
     "metadata": {},
     "output_type": "execute_result"
    }
   ],
   "source": [
    "train_ratios = [0.5,0.8]\n",
    "train_ratio = 0.8\n",
    "rep = 10\n",
    "seeds = np.random.randint(1,10000,rep)\n",
    "print(key,' ',train_ratio)\n",
    "accuracy = []\n",
    "for idx in tqdm(range(len(raterids))):\n",
    "    userid = raterids[idx]\n",
    "    accuracy.append(train_agent(userid,seeds,getDocSimSurvey,train_ratio=train_ratio,survey=True))\n",
    "accdf = pd.DataFrame(accuracy)\n",
    "accdf.mean()"
   ]
  },
  {
   "cell_type": "code",
   "execution_count": 79,
   "metadata": {},
   "outputs": [
    {
     "name": "stderr",
     "output_type": "stream",
     "text": [
      "  0%|                                                                                           | 0/84 [00:00<?, ?it/s]"
     ]
    },
    {
     "name": "stdout",
     "output_type": "stream",
     "text": [
      "Survey   0.5\n"
     ]
    },
    {
     "name": "stderr",
     "output_type": "stream",
     "text": [
      "100%|██████████████████████████████████████████████████████████████████████████████████| 84/84 [02:09<00:00,  1.55s/it]\n",
      "  0%|                                                                                           | 0/84 [00:00<?, ?it/s]"
     ]
    },
    {
     "name": "stdout",
     "output_type": "stream",
     "text": [
      "Survey   0.8\n"
     ]
    },
    {
     "name": "stderr",
     "output_type": "stream",
     "text": [
      "100%|██████████████████████████████████████████████████████████████████████████████████| 84/84 [01:14<00:00,  1.13it/s]\n",
      "  0%|                                                                                           | 0/84 [00:00<?, ?it/s]"
     ]
    },
    {
     "name": "stdout",
     "output_type": "stream",
     "text": [
      "Survey_bert   0.5\n"
     ]
    },
    {
     "name": "stderr",
     "output_type": "stream",
     "text": [
      " 10%|███████▉                                                                           | 8/84 [00:06<01:02,  1.22it/s]\n"
     ]
    },
    {
     "ename": "KeyboardInterrupt",
     "evalue": "",
     "output_type": "error",
     "traceback": [
      "\u001b[1;31m---------------------------------------------------------------------------\u001b[0m",
      "\u001b[1;31mKeyboardInterrupt\u001b[0m                         Traceback (most recent call last)",
      "\u001b[1;32m<ipython-input-79-b366d1083a4e>\u001b[0m in \u001b[0;36m<module>\u001b[1;34m\u001b[0m\n\u001b[0;32m      8\u001b[0m         \u001b[1;32mfor\u001b[0m \u001b[0midx\u001b[0m \u001b[1;32min\u001b[0m \u001b[0mtqdm\u001b[0m\u001b[1;33m(\u001b[0m\u001b[0mrange\u001b[0m\u001b[1;33m(\u001b[0m\u001b[0mlen\u001b[0m\u001b[1;33m(\u001b[0m\u001b[0mraterids\u001b[0m\u001b[1;33m)\u001b[0m\u001b[1;33m)\u001b[0m\u001b[1;33m)\u001b[0m\u001b[1;33m:\u001b[0m\u001b[1;33m\u001b[0m\u001b[1;33m\u001b[0m\u001b[0m\n\u001b[0;32m      9\u001b[0m             \u001b[0muserid\u001b[0m \u001b[1;33m=\u001b[0m \u001b[0mraterids\u001b[0m\u001b[1;33m[\u001b[0m\u001b[0midx\u001b[0m\u001b[1;33m]\u001b[0m\u001b[1;33m\u001b[0m\u001b[1;33m\u001b[0m\u001b[0m\n\u001b[1;32m---> 10\u001b[1;33m             \u001b[0maccuracy\u001b[0m\u001b[1;33m.\u001b[0m\u001b[0mappend\u001b[0m\u001b[1;33m(\u001b[0m\u001b[0mtrain_agent\u001b[0m\u001b[1;33m(\u001b[0m\u001b[0muserid\u001b[0m\u001b[1;33m,\u001b[0m\u001b[0mseeds\u001b[0m\u001b[1;33m,\u001b[0m\u001b[0msimmethod\u001b[0m\u001b[1;33m,\u001b[0m\u001b[0mtrain_ratio\u001b[0m\u001b[1;33m=\u001b[0m\u001b[0mtrain_ratio\u001b[0m\u001b[1;33m,\u001b[0m\u001b[0msurvey\u001b[0m\u001b[1;33m=\u001b[0m\u001b[0mkey\u001b[0m\u001b[1;33m==\u001b[0m\u001b[1;34m'Survey'\u001b[0m\u001b[1;33m)\u001b[0m\u001b[1;33m)\u001b[0m\u001b[1;33m\u001b[0m\u001b[1;33m\u001b[0m\u001b[0m\n\u001b[0m\u001b[0;32m     11\u001b[0m         \u001b[0maccdf\u001b[0m \u001b[1;33m=\u001b[0m \u001b[0mpd\u001b[0m\u001b[1;33m.\u001b[0m\u001b[0mDataFrame\u001b[0m\u001b[1;33m(\u001b[0m\u001b[0maccuracy\u001b[0m\u001b[1;33m)\u001b[0m\u001b[1;33m\u001b[0m\u001b[1;33m\u001b[0m\u001b[0m\n\u001b[0;32m     12\u001b[0m \u001b[0maccdf\u001b[0m\u001b[1;33m.\u001b[0m\u001b[0mmean\u001b[0m\u001b[1;33m(\u001b[0m\u001b[1;33m)\u001b[0m\u001b[1;33m\u001b[0m\u001b[1;33m\u001b[0m\u001b[0m\n",
      "\u001b[1;32m<timed exec>\u001b[0m in \u001b[0;36mtrain_agent\u001b[1;34m(userid, seeds, Simfunction, randonmization, survey, train_ratio, train_rep)\u001b[0m\n",
      "\u001b[1;32m<ipython-input-49-25d30066b89a>\u001b[0m in \u001b[0;36mgetPerformance\u001b[1;34m(a, b)\u001b[0m\n\u001b[0;32m     11\u001b[0m \u001b[1;33m\u001b[0m\u001b[0m\n\u001b[0;32m     12\u001b[0m \u001b[1;32mdef\u001b[0m \u001b[0mgetPerformance\u001b[0m\u001b[1;33m(\u001b[0m\u001b[0ma\u001b[0m\u001b[1;33m,\u001b[0m\u001b[0mb\u001b[0m\u001b[1;33m)\u001b[0m\u001b[1;33m:\u001b[0m\u001b[1;33m\u001b[0m\u001b[1;33m\u001b[0m\u001b[0m\n\u001b[1;32m---> 13\u001b[1;33m     \u001b[1;32mreturn\u001b[0m \u001b[1;33m[\u001b[0m\u001b[0maccuracy_score\u001b[0m\u001b[1;33m(\u001b[0m\u001b[0ma\u001b[0m\u001b[1;33m,\u001b[0m\u001b[0mb\u001b[0m\u001b[1;33m)\u001b[0m\u001b[1;33m,\u001b[0m\u001b[0mprecision_score\u001b[0m\u001b[1;33m(\u001b[0m\u001b[0ma\u001b[0m\u001b[1;33m,\u001b[0m\u001b[0mb\u001b[0m\u001b[1;33m,\u001b[0m\u001b[0mpos_label\u001b[0m \u001b[1;33m=\u001b[0m\u001b[1;34m'Response'\u001b[0m\u001b[1;33m)\u001b[0m\u001b[1;33m,\u001b[0m\u001b[0mrecall_score\u001b[0m\u001b[1;33m(\u001b[0m\u001b[0ma\u001b[0m\u001b[1;33m,\u001b[0m\u001b[0mb\u001b[0m\u001b[1;33m,\u001b[0m\u001b[0mpos_label\u001b[0m\u001b[1;33m=\u001b[0m\u001b[1;34m'Response'\u001b[0m\u001b[1;33m)\u001b[0m\u001b[1;33m]\u001b[0m\u001b[1;33m\u001b[0m\u001b[1;33m\u001b[0m\u001b[0m\n\u001b[0m",
      "\u001b[1;32m~\\Anaconda3\\lib\\site-packages\\sklearn\\utils\\validation.py\u001b[0m in \u001b[0;36minner_f\u001b[1;34m(*args, **kwargs)\u001b[0m\n\u001b[0;32m     71\u001b[0m                           FutureWarning)\n\u001b[0;32m     72\u001b[0m         \u001b[0mkwargs\u001b[0m\u001b[1;33m.\u001b[0m\u001b[0mupdate\u001b[0m\u001b[1;33m(\u001b[0m\u001b[1;33m{\u001b[0m\u001b[0mk\u001b[0m\u001b[1;33m:\u001b[0m \u001b[0marg\u001b[0m \u001b[1;32mfor\u001b[0m \u001b[0mk\u001b[0m\u001b[1;33m,\u001b[0m \u001b[0marg\u001b[0m \u001b[1;32min\u001b[0m \u001b[0mzip\u001b[0m\u001b[1;33m(\u001b[0m\u001b[0msig\u001b[0m\u001b[1;33m.\u001b[0m\u001b[0mparameters\u001b[0m\u001b[1;33m,\u001b[0m \u001b[0margs\u001b[0m\u001b[1;33m)\u001b[0m\u001b[1;33m}\u001b[0m\u001b[1;33m)\u001b[0m\u001b[1;33m\u001b[0m\u001b[1;33m\u001b[0m\u001b[0m\n\u001b[1;32m---> 73\u001b[1;33m         \u001b[1;32mreturn\u001b[0m \u001b[0mf\u001b[0m\u001b[1;33m(\u001b[0m\u001b[1;33m**\u001b[0m\u001b[0mkwargs\u001b[0m\u001b[1;33m)\u001b[0m\u001b[1;33m\u001b[0m\u001b[1;33m\u001b[0m\u001b[0m\n\u001b[0m\u001b[0;32m     74\u001b[0m     \u001b[1;32mreturn\u001b[0m \u001b[0minner_f\u001b[0m\u001b[1;33m\u001b[0m\u001b[1;33m\u001b[0m\u001b[0m\n\u001b[0;32m     75\u001b[0m \u001b[1;33m\u001b[0m\u001b[0m\n",
      "\u001b[1;32m~\\Anaconda3\\lib\\site-packages\\sklearn\\metrics\\_classification.py\u001b[0m in \u001b[0;36maccuracy_score\u001b[1;34m(y_true, y_pred, normalize, sample_weight)\u001b[0m\n\u001b[0;32m    185\u001b[0m \u001b[1;33m\u001b[0m\u001b[0m\n\u001b[0;32m    186\u001b[0m     \u001b[1;31m# Compute accuracy for each possible representation\u001b[0m\u001b[1;33m\u001b[0m\u001b[1;33m\u001b[0m\u001b[1;33m\u001b[0m\u001b[0m\n\u001b[1;32m--> 187\u001b[1;33m     \u001b[0my_type\u001b[0m\u001b[1;33m,\u001b[0m \u001b[0my_true\u001b[0m\u001b[1;33m,\u001b[0m \u001b[0my_pred\u001b[0m \u001b[1;33m=\u001b[0m \u001b[0m_check_targets\u001b[0m\u001b[1;33m(\u001b[0m\u001b[0my_true\u001b[0m\u001b[1;33m,\u001b[0m \u001b[0my_pred\u001b[0m\u001b[1;33m)\u001b[0m\u001b[1;33m\u001b[0m\u001b[1;33m\u001b[0m\u001b[0m\n\u001b[0m\u001b[0;32m    188\u001b[0m     \u001b[0mcheck_consistent_length\u001b[0m\u001b[1;33m(\u001b[0m\u001b[0my_true\u001b[0m\u001b[1;33m,\u001b[0m \u001b[0my_pred\u001b[0m\u001b[1;33m,\u001b[0m \u001b[0msample_weight\u001b[0m\u001b[1;33m)\u001b[0m\u001b[1;33m\u001b[0m\u001b[1;33m\u001b[0m\u001b[0m\n\u001b[0;32m    189\u001b[0m     \u001b[1;32mif\u001b[0m \u001b[0my_type\u001b[0m\u001b[1;33m.\u001b[0m\u001b[0mstartswith\u001b[0m\u001b[1;33m(\u001b[0m\u001b[1;34m'multilabel'\u001b[0m\u001b[1;33m)\u001b[0m\u001b[1;33m:\u001b[0m\u001b[1;33m\u001b[0m\u001b[1;33m\u001b[0m\u001b[0m\n",
      "\u001b[1;32m~\\Anaconda3\\lib\\site-packages\\sklearn\\metrics\\_classification.py\u001b[0m in \u001b[0;36m_check_targets\u001b[1;34m(y_true, y_pred)\u001b[0m\n\u001b[0;32m    102\u001b[0m         \u001b[0my_pred\u001b[0m \u001b[1;33m=\u001b[0m \u001b[0mcolumn_or_1d\u001b[0m\u001b[1;33m(\u001b[0m\u001b[0my_pred\u001b[0m\u001b[1;33m)\u001b[0m\u001b[1;33m\u001b[0m\u001b[1;33m\u001b[0m\u001b[0m\n\u001b[0;32m    103\u001b[0m         \u001b[1;32mif\u001b[0m \u001b[0my_type\u001b[0m \u001b[1;33m==\u001b[0m \u001b[1;34m\"binary\"\u001b[0m\u001b[1;33m:\u001b[0m\u001b[1;33m\u001b[0m\u001b[1;33m\u001b[0m\u001b[0m\n\u001b[1;32m--> 104\u001b[1;33m             \u001b[0munique_values\u001b[0m \u001b[1;33m=\u001b[0m \u001b[0mnp\u001b[0m\u001b[1;33m.\u001b[0m\u001b[0munion1d\u001b[0m\u001b[1;33m(\u001b[0m\u001b[0my_true\u001b[0m\u001b[1;33m,\u001b[0m \u001b[0my_pred\u001b[0m\u001b[1;33m)\u001b[0m\u001b[1;33m\u001b[0m\u001b[1;33m\u001b[0m\u001b[0m\n\u001b[0m\u001b[0;32m    105\u001b[0m             \u001b[1;32mif\u001b[0m \u001b[0mlen\u001b[0m\u001b[1;33m(\u001b[0m\u001b[0munique_values\u001b[0m\u001b[1;33m)\u001b[0m \u001b[1;33m>\u001b[0m \u001b[1;36m2\u001b[0m\u001b[1;33m:\u001b[0m\u001b[1;33m\u001b[0m\u001b[1;33m\u001b[0m\u001b[0m\n\u001b[0;32m    106\u001b[0m                 \u001b[0my_type\u001b[0m \u001b[1;33m=\u001b[0m \u001b[1;34m\"multiclass\"\u001b[0m\u001b[1;33m\u001b[0m\u001b[1;33m\u001b[0m\u001b[0m\n",
      "\u001b[1;32m<__array_function__ internals>\u001b[0m in \u001b[0;36munion1d\u001b[1;34m(*args, **kwargs)\u001b[0m\n",
      "\u001b[1;32m~\\Anaconda3\\lib\\site-packages\\numpy\\lib\\arraysetops.py\u001b[0m in \u001b[0;36munion1d\u001b[1;34m(ar1, ar2)\u001b[0m\n\u001b[0;32m    747\u001b[0m     \u001b[0marray\u001b[0m\u001b[1;33m(\u001b[0m\u001b[1;33m[\u001b[0m\u001b[1;36m1\u001b[0m\u001b[1;33m,\u001b[0m \u001b[1;36m2\u001b[0m\u001b[1;33m,\u001b[0m \u001b[1;36m3\u001b[0m\u001b[1;33m,\u001b[0m \u001b[1;36m4\u001b[0m\u001b[1;33m,\u001b[0m \u001b[1;36m6\u001b[0m\u001b[1;33m]\u001b[0m\u001b[1;33m)\u001b[0m\u001b[1;33m\u001b[0m\u001b[1;33m\u001b[0m\u001b[0m\n\u001b[0;32m    748\u001b[0m     \"\"\"\n\u001b[1;32m--> 749\u001b[1;33m     \u001b[1;32mreturn\u001b[0m \u001b[0munique\u001b[0m\u001b[1;33m(\u001b[0m\u001b[0mnp\u001b[0m\u001b[1;33m.\u001b[0m\u001b[0mconcatenate\u001b[0m\u001b[1;33m(\u001b[0m\u001b[1;33m(\u001b[0m\u001b[0mar1\u001b[0m\u001b[1;33m,\u001b[0m \u001b[0mar2\u001b[0m\u001b[1;33m)\u001b[0m\u001b[1;33m,\u001b[0m \u001b[0maxis\u001b[0m\u001b[1;33m=\u001b[0m\u001b[1;32mNone\u001b[0m\u001b[1;33m)\u001b[0m\u001b[1;33m)\u001b[0m\u001b[1;33m\u001b[0m\u001b[1;33m\u001b[0m\u001b[0m\n\u001b[0m\u001b[0;32m    750\u001b[0m \u001b[1;33m\u001b[0m\u001b[0m\n\u001b[0;32m    751\u001b[0m \u001b[1;33m\u001b[0m\u001b[0m\n",
      "\u001b[1;32m<__array_function__ internals>\u001b[0m in \u001b[0;36munique\u001b[1;34m(*args, **kwargs)\u001b[0m\n",
      "\u001b[1;32m~\\Anaconda3\\lib\\site-packages\\numpy\\lib\\arraysetops.py\u001b[0m in \u001b[0;36munique\u001b[1;34m(ar, return_index, return_inverse, return_counts, axis)\u001b[0m\n\u001b[0;32m    259\u001b[0m     \u001b[0mar\u001b[0m \u001b[1;33m=\u001b[0m \u001b[0mnp\u001b[0m\u001b[1;33m.\u001b[0m\u001b[0masanyarray\u001b[0m\u001b[1;33m(\u001b[0m\u001b[0mar\u001b[0m\u001b[1;33m)\u001b[0m\u001b[1;33m\u001b[0m\u001b[1;33m\u001b[0m\u001b[0m\n\u001b[0;32m    260\u001b[0m     \u001b[1;32mif\u001b[0m \u001b[0maxis\u001b[0m \u001b[1;32mis\u001b[0m \u001b[1;32mNone\u001b[0m\u001b[1;33m:\u001b[0m\u001b[1;33m\u001b[0m\u001b[1;33m\u001b[0m\u001b[0m\n\u001b[1;32m--> 261\u001b[1;33m         \u001b[0mret\u001b[0m \u001b[1;33m=\u001b[0m \u001b[0m_unique1d\u001b[0m\u001b[1;33m(\u001b[0m\u001b[0mar\u001b[0m\u001b[1;33m,\u001b[0m \u001b[0mreturn_index\u001b[0m\u001b[1;33m,\u001b[0m \u001b[0mreturn_inverse\u001b[0m\u001b[1;33m,\u001b[0m \u001b[0mreturn_counts\u001b[0m\u001b[1;33m)\u001b[0m\u001b[1;33m\u001b[0m\u001b[1;33m\u001b[0m\u001b[0m\n\u001b[0m\u001b[0;32m    262\u001b[0m         \u001b[1;32mreturn\u001b[0m \u001b[0m_unpack_tuple\u001b[0m\u001b[1;33m(\u001b[0m\u001b[0mret\u001b[0m\u001b[1;33m)\u001b[0m\u001b[1;33m\u001b[0m\u001b[1;33m\u001b[0m\u001b[0m\n\u001b[0;32m    263\u001b[0m \u001b[1;33m\u001b[0m\u001b[0m\n",
      "\u001b[1;32m~\\Anaconda3\\lib\\site-packages\\numpy\\lib\\arraysetops.py\u001b[0m in \u001b[0;36m_unique1d\u001b[1;34m(ar, return_index, return_inverse, return_counts)\u001b[0m\n\u001b[0;32m    320\u001b[0m         \u001b[0maux\u001b[0m \u001b[1;33m=\u001b[0m \u001b[0mar\u001b[0m\u001b[1;33m[\u001b[0m\u001b[0mperm\u001b[0m\u001b[1;33m]\u001b[0m\u001b[1;33m\u001b[0m\u001b[1;33m\u001b[0m\u001b[0m\n\u001b[0;32m    321\u001b[0m     \u001b[1;32melse\u001b[0m\u001b[1;33m:\u001b[0m\u001b[1;33m\u001b[0m\u001b[1;33m\u001b[0m\u001b[0m\n\u001b[1;32m--> 322\u001b[1;33m         \u001b[0mar\u001b[0m\u001b[1;33m.\u001b[0m\u001b[0msort\u001b[0m\u001b[1;33m(\u001b[0m\u001b[1;33m)\u001b[0m\u001b[1;33m\u001b[0m\u001b[1;33m\u001b[0m\u001b[0m\n\u001b[0m\u001b[0;32m    323\u001b[0m         \u001b[0maux\u001b[0m \u001b[1;33m=\u001b[0m \u001b[0mar\u001b[0m\u001b[1;33m\u001b[0m\u001b[1;33m\u001b[0m\u001b[0m\n\u001b[0;32m    324\u001b[0m     \u001b[0mmask\u001b[0m \u001b[1;33m=\u001b[0m \u001b[0mnp\u001b[0m\u001b[1;33m.\u001b[0m\u001b[0mempty\u001b[0m\u001b[1;33m(\u001b[0m\u001b[0maux\u001b[0m\u001b[1;33m.\u001b[0m\u001b[0mshape\u001b[0m\u001b[1;33m,\u001b[0m \u001b[0mdtype\u001b[0m\u001b[1;33m=\u001b[0m\u001b[0mnp\u001b[0m\u001b[1;33m.\u001b[0m\u001b[0mbool_\u001b[0m\u001b[1;33m)\u001b[0m\u001b[1;33m\u001b[0m\u001b[1;33m\u001b[0m\u001b[0m\n",
      "\u001b[1;31mKeyboardInterrupt\u001b[0m: "
     ]
    }
   ],
   "source": [
    "train_ratios = [0.5,0.8]\n",
    "rep = 800\n",
    "seeds = np.random.randint(1,10000,rep)\n",
    "for key,simmethod in simmethods.items():\n",
    "    for train_ratio in train_ratios:\n",
    "        print(key,' ',train_ratio)\n",
    "        accuracy = []\n",
    "        for idx in tqdm(range(len(raterids))):\n",
    "            userid = raterids[idx]\n",
    "            accuracy.append(train_agent(userid,seeds,simmethod,train_ratio=train_ratio,survey=key=='Survey'))\n",
    "        accdf = pd.DataFrame(accuracy)\n",
    "        accdf.to_csv('Result.valid_800/'+key+str(train_ratio)+'.csv',index = False)"
   ]
  },
  {
   "cell_type": "code",
   "execution_count": 224,
   "metadata": {},
   "outputs": [
    {
     "name": "stderr",
     "output_type": "stream",
     "text": [
      "  0%|                                                                                           | 0/84 [00:00<?, ?it/s]"
     ]
    },
    {
     "name": "stdout",
     "output_type": "stream",
     "text": [
      "LSA   0.5\n"
     ]
    },
    {
     "name": "stderr",
     "output_type": "stream",
     "text": [
      "100%|██████████████████████████████████████████████████████████████████████████████████| 84/84 [21:19<00:00, 15.24s/it]\n",
      "  0%|                                                                                           | 0/84 [00:00<?, ?it/s]C:\\Users\\xthbo\\Anaconda3\\lib\\site-packages\\sklearn\\metrics\\_classification.py:1221: UndefinedMetricWarning: Recall is ill-defined and being set to 0.0 due to no true samples. Use `zero_division` parameter to control this behavior.\n"
     ]
    },
    {
     "name": "stdout",
     "output_type": "stream",
     "text": [
      "LSA   0.8\n"
     ]
    },
    {
     "name": "stderr",
     "output_type": "stream",
     "text": [
      "100%|██████████████████████████████████████████████████████████████████████████████████| 84/84 [12:09<00:00,  8.68s/it]\n",
      "  0%|                                                                                           | 0/84 [00:00<?, ?it/s]"
     ]
    },
    {
     "name": "stdout",
     "output_type": "stream",
     "text": [
      "Glove   0.5\n"
     ]
    },
    {
     "name": "stderr",
     "output_type": "stream",
     "text": [
      "100%|██████████████████████████████████████████████████████████████████████████████████| 84/84 [21:09<00:00, 15.11s/it]\n",
      "  0%|                                                                                           | 0/84 [00:00<?, ?it/s]"
     ]
    },
    {
     "name": "stdout",
     "output_type": "stream",
     "text": [
      "Glove   0.8\n"
     ]
    },
    {
     "name": "stderr",
     "output_type": "stream",
     "text": [
      "100%|██████████████████████████████████████████████████████████████████████████████████| 84/84 [12:05<00:00,  8.64s/it]\n",
      "  0%|                                                                                           | 0/84 [00:00<?, ?it/s]"
     ]
    },
    {
     "name": "stdout",
     "output_type": "stream",
     "text": [
      "Survey   0.5\n"
     ]
    },
    {
     "name": "stderr",
     "output_type": "stream",
     "text": [
      "100%|██████████████████████████████████████████████████████████████████████████████████| 84/84 [21:30<00:00, 15.37s/it]\n",
      "  0%|                                                                                           | 0/84 [00:00<?, ?it/s]"
     ]
    },
    {
     "name": "stdout",
     "output_type": "stream",
     "text": [
      "Survey   0.8\n"
     ]
    },
    {
     "name": "stderr",
     "output_type": "stream",
     "text": [
      "100%|██████████████████████████████████████████████████████████████████████████████████| 84/84 [12:23<00:00,  8.85s/it]\n",
      "  0%|                                                                                           | 0/84 [00:00<?, ?it/s]"
     ]
    },
    {
     "name": "stdout",
     "output_type": "stream",
     "text": [
      "Survey_bert   0.5\n"
     ]
    },
    {
     "name": "stderr",
     "output_type": "stream",
     "text": [
      "  1%|▉                                                                                  | 1/84 [00:22<31:07, 22.50s/it]C:\\Users\\xthbo\\Anaconda3\\lib\\site-packages\\pyactup.py:553: UserWarning: similarity value is less than the minimum allowed, 0, so that minimum value is being used instead\n",
      "100%|██████████████████████████████████████████████████████████████████████████████████| 84/84 [41:10<00:00, 29.41s/it]\n",
      "  0%|                                                                                           | 0/84 [00:00<?, ?it/s]"
     ]
    },
    {
     "name": "stdout",
     "output_type": "stream",
     "text": [
      "Survey_bert   0.8\n"
     ]
    },
    {
     "name": "stderr",
     "output_type": "stream",
     "text": [
      "100%|██████████████████████████████████████████████████████████████████████████████████| 84/84 [11:16<00:00,  8.05s/it]\n",
      "  0%|                                                                                           | 0/84 [00:00<?, ?it/s]"
     ]
    },
    {
     "name": "stdout",
     "output_type": "stream",
     "text": [
      "Semantic_Bert   0.5\n"
     ]
    },
    {
     "name": "stderr",
     "output_type": "stream",
     "text": [
      "100%|██████████████████████████████████████████████████████████████████████████████████| 84/84 [41:03<00:00, 29.33s/it]\n",
      "  0%|                                                                                           | 0/84 [00:00<?, ?it/s]"
     ]
    },
    {
     "name": "stdout",
     "output_type": "stream",
     "text": [
      "Semantic_Bert   0.8\n"
     ]
    },
    {
     "name": "stderr",
     "output_type": "stream",
     "text": [
      "100%|██████████████████████████████████████████████████████████████████████████████████| 84/84 [11:14<00:00,  8.03s/it]\n"
     ]
    }
   ],
   "source": [
    "for key,simmethod in simmethods.items():\n",
    "    for train_ratio in train_ratios:\n",
    "        print(key,' ',train_ratio)\n",
    "        accuracy = []\n",
    "        for idx in tqdm(range(len(raterids))):\n",
    "            userid = raterids[idx]\n",
    "            accuracy.append(train_agent(userid,seeds,simmethod,train_ratio=train_ratio,survey=key=='Survey'))\n",
    "        accdf = pd.DataFrame(accuracy)\n",
    "        accdf.to_csv('Result.valid/'+key+str(train_ratio)+'.csv',index = False)"
   ]
  },
  {
   "cell_type": "code",
   "execution_count": 225,
   "metadata": {},
   "outputs": [],
   "source": [
    "import pickle\n",
    "output = open('./data/similar_semantics.pkl', 'wb')\n",
    "pickle.dump(similar, output)\n",
    "output.close()\n",
    "\n",
    "output = open('./data/similar_survey.pkl', 'wb')\n",
    "pickle.dump(similarsurvey, output)\n",
    "output.close()\n"
   ]
  },
  {
   "cell_type": "code",
   "execution_count": 93,
   "metadata": {},
   "outputs": [
    {
     "data": {
      "text/plain": [
       "1.9623390808264074"
      ]
     },
     "execution_count": 93,
     "metadata": {},
     "output_type": "execute_result"
    }
   ],
   "source": [
    "t.ppf(1-0.025,1000)"
   ]
  },
  {
   "cell_type": "code",
   "execution_count": 74,
   "metadata": {},
   "outputs": [
    {
     "name": "stdout",
     "output_type": "stream",
     "text": [
      "0.15104635050208925\n"
     ]
    },
    {
     "data": {
      "text/plain": [
       "633.75"
      ]
     },
     "execution_count": 74,
     "metadata": {},
     "output_type": "execute_result"
    }
   ],
   "source": [
    "from scipy.stats import t\n",
    "sample_var = 0.006\n",
    "n0 = 100\n",
    "#h0 = t.ppf(1-0.025,n0)\n",
    "h0 = 1.95*(sample_var)**0.5\n",
    "h = 0.06\n",
    "n = h0**2/h**2*n0\n",
    "print(h0)\n",
    "n"
   ]
  },
  {
   "cell_type": "code",
   "execution_count": 99,
   "metadata": {},
   "outputs": [
    {
     "name": "stderr",
     "output_type": "stream",
     "text": [
      "  0%|                                                                                            | 0/1 [00:00<?, ?it/s]C:\\Users\\xthbo\\Anaconda3\\lib\\site-packages\\sklearn\\metrics\\_classification.py:1221: UndefinedMetricWarning: Precision is ill-defined and being set to 0.0 due to no predicted samples. Use `zero_division` parameter to control this behavior.\n",
      "100%|███████████████████████████████████████████████████████████████████████████████████| 1/1 [05:21<00:00, 321.65s/it]\n"
     ]
    },
    {
     "data": {
      "text/html": [
       "<div>\n",
       "<style scoped>\n",
       "    .dataframe tbody tr th:only-of-type {\n",
       "        vertical-align: middle;\n",
       "    }\n",
       "\n",
       "    .dataframe tbody tr th {\n",
       "        vertical-align: top;\n",
       "    }\n",
       "\n",
       "    .dataframe thead th {\n",
       "        text-align: right;\n",
       "    }\n",
       "</style>\n",
       "<table border=\"1\" class=\"dataframe\">\n",
       "  <thead>\n",
       "    <tr style=\"text-align: right;\">\n",
       "      <th></th>\n",
       "      <th>UserID</th>\n",
       "      <th>1_Accuracy</th>\n",
       "      <th>1_Percision</th>\n",
       "      <th>1_Recall</th>\n",
       "      <th>1_var_Accuracy</th>\n",
       "      <th>1_var_Percision</th>\n",
       "      <th>1_var_Recall</th>\n",
       "      <th>5_Accuracy</th>\n",
       "      <th>5_Percision</th>\n",
       "      <th>5_Recall</th>\n",
       "      <th>5_var_Accuracy</th>\n",
       "      <th>5_var_Percision</th>\n",
       "      <th>5_var_Recall</th>\n",
       "      <th>30_Accuracy</th>\n",
       "      <th>30_Percision</th>\n",
       "      <th>30_Recall</th>\n",
       "      <th>30_var_Accuracy</th>\n",
       "      <th>30_var_Percision</th>\n",
       "      <th>30_var_Recall</th>\n",
       "    </tr>\n",
       "  </thead>\n",
       "  <tbody>\n",
       "    <tr>\n",
       "      <th>0</th>\n",
       "      <td>32efff21538c13dd3f8d679dfb66fda0</td>\n",
       "      <td>0.516039</td>\n",
       "      <td>0.385401</td>\n",
       "      <td>0.311358</td>\n",
       "      <td>0.000052</td>\n",
       "      <td>0.000039</td>\n",
       "      <td>0.000031</td>\n",
       "      <td>0.5171</td>\n",
       "      <td>0.394777</td>\n",
       "      <td>0.354129</td>\n",
       "      <td>0.000052</td>\n",
       "      <td>0.000039</td>\n",
       "      <td>0.000035</td>\n",
       "      <td>0.502911</td>\n",
       "      <td>0.353233</td>\n",
       "      <td>0.304132</td>\n",
       "      <td>0.00005</td>\n",
       "      <td>0.000035</td>\n",
       "      <td>0.00003</td>\n",
       "    </tr>\n",
       "  </tbody>\n",
       "</table>\n",
       "</div>"
      ],
      "text/plain": [
       "                             UserID  1_Accuracy  1_Percision  1_Recall  \\\n",
       "0  32efff21538c13dd3f8d679dfb66fda0    0.516039     0.385401  0.311358   \n",
       "\n",
       "   1_var_Accuracy  1_var_Percision  1_var_Recall  5_Accuracy  5_Percision  \\\n",
       "0        0.000052         0.000039      0.000031      0.5171     0.394777   \n",
       "\n",
       "   5_Recall  5_var_Accuracy  5_var_Percision  5_var_Recall  30_Accuracy  \\\n",
       "0  0.354129        0.000052         0.000039      0.000035     0.502911   \n",
       "\n",
       "   30_Percision  30_Recall  30_var_Accuracy  30_var_Percision  30_var_Recall  \n",
       "0      0.353233   0.304132          0.00005          0.000035        0.00003  "
      ]
     },
     "execution_count": 99,
     "metadata": {},
     "output_type": "execute_result"
    }
   ],
   "source": [
    "train_ratio = 0.5\n",
    "rep = 10000\n",
    "seeds = np.random.randint(1,100000000,rep)\n",
    "accuracy = []\n",
    "for idx in tqdm(range(len(raterids[:1]))):\n",
    "    userid = raterids[idx]\n",
    "    accuracy.append(train_agent(userid,seeds,getDocSimGlove,train_ratio=train_ratio))\n",
    "accdf = pd.DataFrame(accuracy)\n",
    "accdf"
   ]
  },
  {
   "cell_type": "code",
   "execution_count": 87,
   "metadata": {},
   "outputs": [
    {
     "data": {
      "text/plain": [
       "1_Accuracy          0.586938\n",
       "1_Percision         0.338158\n",
       "1_Recall            0.256618\n",
       "1_var_Accuracy      0.586938\n",
       "1_var_Percision     0.338158\n",
       "1_var_Recall        0.256618\n",
       "5_Accuracy          0.593011\n",
       "5_Percision         0.379759\n",
       "5_Recall            0.293815\n",
       "5_var_Accuracy      0.593011\n",
       "5_var_Percision     0.379759\n",
       "5_var_Recall        0.293815\n",
       "30_Accuracy         0.595959\n",
       "30_Percision        0.424935\n",
       "30_Recall           0.430415\n",
       "30_var_Accuracy     0.595959\n",
       "30_var_Percision    0.424935\n",
       "30_var_Recall       0.430415\n",
       "dtype: float64"
      ]
     },
     "execution_count": 87,
     "metadata": {},
     "output_type": "execute_result"
    }
   ],
   "source": [
    "accdf.mean()"
   ]
  },
  {
   "cell_type": "code",
   "execution_count": 88,
   "metadata": {},
   "outputs": [
    {
     "name": "stderr",
     "output_type": "stream",
     "text": [
      "  0%|                                                                                           | 0/10 [00:00<?, ?it/s]C:\\Users\\xthbo\\Anaconda3\\lib\\site-packages\\sklearn\\metrics\\_classification.py:1221: UndefinedMetricWarning: Precision is ill-defined and being set to 0.0 due to no predicted samples. Use `zero_division` parameter to control this behavior.\n",
      "100%|██████████████████████████████████████████████████████████████████████████████████| 10/10 [00:07<00:00,  1.27it/s]\n"
     ]
    },
    {
     "data": {
      "text/plain": [
       "1_Accuracy          0.583051\n",
       "1_Percision         0.334984\n",
       "1_Recall            0.268249\n",
       "1_var_Accuracy      0.583051\n",
       "1_var_Percision     0.334984\n",
       "1_var_Recall        0.268249\n",
       "5_Accuracy          0.604527\n",
       "5_Percision         0.389113\n",
       "5_Recall            0.313263\n",
       "5_var_Accuracy      0.604527\n",
       "5_var_Percision     0.389113\n",
       "5_var_Recall        0.313263\n",
       "30_Accuracy         0.587249\n",
       "30_Percision        0.411156\n",
       "30_Recall           0.402591\n",
       "30_var_Accuracy     0.587249\n",
       "30_var_Percision    0.411156\n",
       "30_var_Recall       0.402591\n",
       "dtype: float64"
      ]
     },
     "execution_count": 88,
     "metadata": {},
     "output_type": "execute_result"
    }
   ],
   "source": [
    "train_ratio = 0.5\n",
    "accuracy = []\n",
    "rep = 10\n",
    "seeds = np.random.randint(1,100,rep)\n",
    "for idx in tqdm(range(len(raterids[:10]))):\n",
    "    userid = raterids[idx]\n",
    "    accuracy.append(train_agent(userid,seeds,getDocSimGlove,train_ratio=train_ratio))\n",
    "accdf = pd.DataFrame(accuracy)\n",
    "accdf.mean()"
   ]
  },
  {
   "cell_type": "code",
   "execution_count": 203,
   "metadata": {},
   "outputs": [
    {
     "name": "stderr",
     "output_type": "stream",
     "text": [
      "  0%|                                                                                           | 0/10 [00:00<?, ?it/s]C:\\Users\\xthbo\\Anaconda3\\lib\\site-packages\\sklearn\\metrics\\_classification.py:1221: UndefinedMetricWarning: Precision is ill-defined and being set to 0.0 due to no predicted samples. Use `zero_division` parameter to control this behavior.\n",
      "100%|██████████████████████████████████████████████████████████████████████████████████| 10/10 [12:57<00:00, 77.74s/it]\n"
     ]
    },
    {
     "data": {
      "text/html": [
       "<div>\n",
       "<style scoped>\n",
       "    .dataframe tbody tr th:only-of-type {\n",
       "        vertical-align: middle;\n",
       "    }\n",
       "\n",
       "    .dataframe tbody tr th {\n",
       "        vertical-align: top;\n",
       "    }\n",
       "\n",
       "    .dataframe thead th {\n",
       "        text-align: right;\n",
       "    }\n",
       "</style>\n",
       "<table border=\"1\" class=\"dataframe\">\n",
       "  <thead>\n",
       "    <tr style=\"text-align: right;\">\n",
       "      <th></th>\n",
       "      <th>UserID</th>\n",
       "      <th>1_Accuracy</th>\n",
       "      <th>1_Percision</th>\n",
       "      <th>1_Recall</th>\n",
       "      <th>1_var_Accuracy</th>\n",
       "      <th>1_var_Percision</th>\n",
       "      <th>1_var_Recall</th>\n",
       "      <th>5_Accuracy</th>\n",
       "      <th>5_Percision</th>\n",
       "      <th>5_Recall</th>\n",
       "      <th>5_var_Accuracy</th>\n",
       "      <th>5_var_Percision</th>\n",
       "      <th>5_var_Recall</th>\n",
       "      <th>30_Accuracy</th>\n",
       "      <th>30_Percision</th>\n",
       "      <th>30_Recall</th>\n",
       "      <th>30_var_Accuracy</th>\n",
       "      <th>30_var_Percision</th>\n",
       "      <th>30_var_Recall</th>\n",
       "    </tr>\n",
       "  </thead>\n",
       "  <tbody>\n",
       "    <tr>\n",
       "      <th>0</th>\n",
       "      <td>32efff21538c13dd3f8d679dfb66fda0</td>\n",
       "      <td>0.517278</td>\n",
       "      <td>0.378383</td>\n",
       "      <td>0.305294</td>\n",
       "      <td>0.000517</td>\n",
       "      <td>0.000378</td>\n",
       "      <td>0.000305</td>\n",
       "      <td>0.520611</td>\n",
       "      <td>0.400528</td>\n",
       "      <td>0.347499</td>\n",
       "      <td>0.000521</td>\n",
       "      <td>0.000401</td>\n",
       "      <td>0.000347</td>\n",
       "      <td>0.500944</td>\n",
       "      <td>0.360275</td>\n",
       "      <td>0.304098</td>\n",
       "      <td>0.000501</td>\n",
       "      <td>0.000360</td>\n",
       "      <td>0.000304</td>\n",
       "    </tr>\n",
       "    <tr>\n",
       "      <th>1</th>\n",
       "      <td>68eff82422ee0ce341e2b8b635bad447</td>\n",
       "      <td>0.583386</td>\n",
       "      <td>0.380751</td>\n",
       "      <td>0.177956</td>\n",
       "      <td>0.000583</td>\n",
       "      <td>0.000381</td>\n",
       "      <td>0.000178</td>\n",
       "      <td>0.600545</td>\n",
       "      <td>0.454686</td>\n",
       "      <td>0.251093</td>\n",
       "      <td>0.000601</td>\n",
       "      <td>0.000455</td>\n",
       "      <td>0.000251</td>\n",
       "      <td>0.604045</td>\n",
       "      <td>0.474892</td>\n",
       "      <td>0.478934</td>\n",
       "      <td>0.000604</td>\n",
       "      <td>0.000475</td>\n",
       "      <td>0.000479</td>\n",
       "    </tr>\n",
       "    <tr>\n",
       "      <th>2</th>\n",
       "      <td>e154f85dba016fc4d1d07c62061c87a0</td>\n",
       "      <td>0.677864</td>\n",
       "      <td>0.208073</td>\n",
       "      <td>0.083999</td>\n",
       "      <td>0.000678</td>\n",
       "      <td>0.000208</td>\n",
       "      <td>0.000084</td>\n",
       "      <td>0.694864</td>\n",
       "      <td>0.252267</td>\n",
       "      <td>0.111049</td>\n",
       "      <td>0.000695</td>\n",
       "      <td>0.000252</td>\n",
       "      <td>0.000111</td>\n",
       "      <td>0.689773</td>\n",
       "      <td>0.410963</td>\n",
       "      <td>0.237810</td>\n",
       "      <td>0.000690</td>\n",
       "      <td>0.000411</td>\n",
       "      <td>0.000238</td>\n",
       "    </tr>\n",
       "    <tr>\n",
       "      <th>3</th>\n",
       "      <td>2b28aec060b0c3e64e9237c1d757388f</td>\n",
       "      <td>0.705970</td>\n",
       "      <td>0.177802</td>\n",
       "      <td>0.058124</td>\n",
       "      <td>0.000706</td>\n",
       "      <td>0.000178</td>\n",
       "      <td>0.000058</td>\n",
       "      <td>0.689697</td>\n",
       "      <td>0.260467</td>\n",
       "      <td>0.127922</td>\n",
       "      <td>0.000690</td>\n",
       "      <td>0.000260</td>\n",
       "      <td>0.000128</td>\n",
       "      <td>0.647758</td>\n",
       "      <td>0.370749</td>\n",
       "      <td>0.444437</td>\n",
       "      <td>0.000648</td>\n",
       "      <td>0.000371</td>\n",
       "      <td>0.000444</td>\n",
       "    </tr>\n",
       "    <tr>\n",
       "      <th>4</th>\n",
       "      <td>531b3014dafd0c2318b9d96e3a70290e</td>\n",
       "      <td>0.481846</td>\n",
       "      <td>0.488226</td>\n",
       "      <td>0.547679</td>\n",
       "      <td>0.000482</td>\n",
       "      <td>0.000488</td>\n",
       "      <td>0.000548</td>\n",
       "      <td>0.491615</td>\n",
       "      <td>0.497973</td>\n",
       "      <td>0.679572</td>\n",
       "      <td>0.000492</td>\n",
       "      <td>0.000498</td>\n",
       "      <td>0.000680</td>\n",
       "      <td>0.514692</td>\n",
       "      <td>0.506737</td>\n",
       "      <td>0.707147</td>\n",
       "      <td>0.000515</td>\n",
       "      <td>0.000507</td>\n",
       "      <td>0.000707</td>\n",
       "    </tr>\n",
       "    <tr>\n",
       "      <th>5</th>\n",
       "      <td>7a9e974b437f3b16cbcd7798d92f2b2b</td>\n",
       "      <td>0.733622</td>\n",
       "      <td>0.184402</td>\n",
       "      <td>0.042439</td>\n",
       "      <td>0.000734</td>\n",
       "      <td>0.000184</td>\n",
       "      <td>0.000042</td>\n",
       "      <td>0.726467</td>\n",
       "      <td>0.217272</td>\n",
       "      <td>0.062411</td>\n",
       "      <td>0.000726</td>\n",
       "      <td>0.000217</td>\n",
       "      <td>0.000062</td>\n",
       "      <td>0.661556</td>\n",
       "      <td>0.233040</td>\n",
       "      <td>0.160822</td>\n",
       "      <td>0.000662</td>\n",
       "      <td>0.000233</td>\n",
       "      <td>0.000161</td>\n",
       "    </tr>\n",
       "    <tr>\n",
       "      <th>6</th>\n",
       "      <td>269139e2ecc370ba50e750fe0b92fd26</td>\n",
       "      <td>0.478500</td>\n",
       "      <td>0.458125</td>\n",
       "      <td>0.402055</td>\n",
       "      <td>0.000479</td>\n",
       "      <td>0.000458</td>\n",
       "      <td>0.000402</td>\n",
       "      <td>0.476846</td>\n",
       "      <td>0.459025</td>\n",
       "      <td>0.423624</td>\n",
       "      <td>0.000477</td>\n",
       "      <td>0.000459</td>\n",
       "      <td>0.000424</td>\n",
       "      <td>0.522231</td>\n",
       "      <td>0.498670</td>\n",
       "      <td>0.518858</td>\n",
       "      <td>0.000522</td>\n",
       "      <td>0.000499</td>\n",
       "      <td>0.000519</td>\n",
       "    </tr>\n",
       "    <tr>\n",
       "      <th>7</th>\n",
       "      <td>e3ed5f7cf078d072db53d04aa2507b48</td>\n",
       "      <td>0.505926</td>\n",
       "      <td>0.435939</td>\n",
       "      <td>0.350941</td>\n",
       "      <td>0.000506</td>\n",
       "      <td>0.000436</td>\n",
       "      <td>0.000351</td>\n",
       "      <td>0.528296</td>\n",
       "      <td>0.471827</td>\n",
       "      <td>0.426412</td>\n",
       "      <td>0.000528</td>\n",
       "      <td>0.000472</td>\n",
       "      <td>0.000426</td>\n",
       "      <td>0.562852</td>\n",
       "      <td>0.509867</td>\n",
       "      <td>0.546880</td>\n",
       "      <td>0.000563</td>\n",
       "      <td>0.000510</td>\n",
       "      <td>0.000547</td>\n",
       "    </tr>\n",
       "    <tr>\n",
       "      <th>8</th>\n",
       "      <td>1b0417e7f9370a665795348a1eaa74d2</td>\n",
       "      <td>0.465571</td>\n",
       "      <td>0.452897</td>\n",
       "      <td>0.454928</td>\n",
       "      <td>0.000466</td>\n",
       "      <td>0.000453</td>\n",
       "      <td>0.000455</td>\n",
       "      <td>0.486143</td>\n",
       "      <td>0.482028</td>\n",
       "      <td>0.482372</td>\n",
       "      <td>0.000486</td>\n",
       "      <td>0.000482</td>\n",
       "      <td>0.000482</td>\n",
       "      <td>0.486810</td>\n",
       "      <td>0.487105</td>\n",
       "      <td>0.552642</td>\n",
       "      <td>0.000487</td>\n",
       "      <td>0.000487</td>\n",
       "      <td>0.000553</td>\n",
       "    </tr>\n",
       "    <tr>\n",
       "      <th>9</th>\n",
       "      <td>3844b655c892e04a56000c6b538a4c39</td>\n",
       "      <td>0.734615</td>\n",
       "      <td>0.130040</td>\n",
       "      <td>0.048031</td>\n",
       "      <td>0.000735</td>\n",
       "      <td>0.000130</td>\n",
       "      <td>0.000048</td>\n",
       "      <td>0.736769</td>\n",
       "      <td>0.260159</td>\n",
       "      <td>0.100453</td>\n",
       "      <td>0.000737</td>\n",
       "      <td>0.000260</td>\n",
       "      <td>0.000100</td>\n",
       "      <td>0.736423</td>\n",
       "      <td>0.483694</td>\n",
       "      <td>0.354468</td>\n",
       "      <td>0.000736</td>\n",
       "      <td>0.000484</td>\n",
       "      <td>0.000354</td>\n",
       "    </tr>\n",
       "  </tbody>\n",
       "</table>\n",
       "</div>"
      ],
      "text/plain": [
       "                             UserID  1_Accuracy  1_Percision  1_Recall  \\\n",
       "0  32efff21538c13dd3f8d679dfb66fda0    0.517278     0.378383  0.305294   \n",
       "1  68eff82422ee0ce341e2b8b635bad447    0.583386     0.380751  0.177956   \n",
       "2  e154f85dba016fc4d1d07c62061c87a0    0.677864     0.208073  0.083999   \n",
       "3  2b28aec060b0c3e64e9237c1d757388f    0.705970     0.177802  0.058124   \n",
       "4  531b3014dafd0c2318b9d96e3a70290e    0.481846     0.488226  0.547679   \n",
       "5  7a9e974b437f3b16cbcd7798d92f2b2b    0.733622     0.184402  0.042439   \n",
       "6  269139e2ecc370ba50e750fe0b92fd26    0.478500     0.458125  0.402055   \n",
       "7  e3ed5f7cf078d072db53d04aa2507b48    0.505926     0.435939  0.350941   \n",
       "8  1b0417e7f9370a665795348a1eaa74d2    0.465571     0.452897  0.454928   \n",
       "9  3844b655c892e04a56000c6b538a4c39    0.734615     0.130040  0.048031   \n",
       "\n",
       "   1_var_Accuracy  1_var_Percision  1_var_Recall  5_Accuracy  5_Percision  \\\n",
       "0        0.000517         0.000378      0.000305    0.520611     0.400528   \n",
       "1        0.000583         0.000381      0.000178    0.600545     0.454686   \n",
       "2        0.000678         0.000208      0.000084    0.694864     0.252267   \n",
       "3        0.000706         0.000178      0.000058    0.689697     0.260467   \n",
       "4        0.000482         0.000488      0.000548    0.491615     0.497973   \n",
       "5        0.000734         0.000184      0.000042    0.726467     0.217272   \n",
       "6        0.000479         0.000458      0.000402    0.476846     0.459025   \n",
       "7        0.000506         0.000436      0.000351    0.528296     0.471827   \n",
       "8        0.000466         0.000453      0.000455    0.486143     0.482028   \n",
       "9        0.000735         0.000130      0.000048    0.736769     0.260159   \n",
       "\n",
       "   5_Recall  5_var_Accuracy  5_var_Percision  5_var_Recall  30_Accuracy  \\\n",
       "0  0.347499        0.000521         0.000401      0.000347     0.500944   \n",
       "1  0.251093        0.000601         0.000455      0.000251     0.604045   \n",
       "2  0.111049        0.000695         0.000252      0.000111     0.689773   \n",
       "3  0.127922        0.000690         0.000260      0.000128     0.647758   \n",
       "4  0.679572        0.000492         0.000498      0.000680     0.514692   \n",
       "5  0.062411        0.000726         0.000217      0.000062     0.661556   \n",
       "6  0.423624        0.000477         0.000459      0.000424     0.522231   \n",
       "7  0.426412        0.000528         0.000472      0.000426     0.562852   \n",
       "8  0.482372        0.000486         0.000482      0.000482     0.486810   \n",
       "9  0.100453        0.000737         0.000260      0.000100     0.736423   \n",
       "\n",
       "   30_Percision  30_Recall  30_var_Accuracy  30_var_Percision  30_var_Recall  \n",
       "0      0.360275   0.304098         0.000501          0.000360       0.000304  \n",
       "1      0.474892   0.478934         0.000604          0.000475       0.000479  \n",
       "2      0.410963   0.237810         0.000690          0.000411       0.000238  \n",
       "3      0.370749   0.444437         0.000648          0.000371       0.000444  \n",
       "4      0.506737   0.707147         0.000515          0.000507       0.000707  \n",
       "5      0.233040   0.160822         0.000662          0.000233       0.000161  \n",
       "6      0.498670   0.518858         0.000522          0.000499       0.000519  \n",
       "7      0.509867   0.546880         0.000563          0.000510       0.000547  \n",
       "8      0.487105   0.552642         0.000487          0.000487       0.000553  \n",
       "9      0.483694   0.354468         0.000736          0.000484       0.000354  "
      ]
     },
     "execution_count": 203,
     "metadata": {},
     "output_type": "execute_result"
    }
   ],
   "source": [
    "train_ratio = 0.5\n",
    "accuracy = []\n",
    "rep = 1000\n",
    "seeds = np.random.randint(1,10000,rep)\n",
    "for idx in tqdm(range(len(raterids[:10]))):\n",
    "    userid = raterids[idx]\n",
    "    accuracy.append(train_agent(userid,seeds,getDocSimGlove,train_ratio=train_ratio))\n",
    "accdf = pd.DataFrame(accuracy)\n",
    "accdf"
   ]
  },
  {
   "cell_type": "code",
   "execution_count": null,
   "metadata": {},
   "outputs": [],
   "source": [
    "train_ratio = 0.5\n",
    "accuracy = []\n",
    "rep = 10\n",
    "seeds = np.random.randint(1,100,rep)\n",
    "\n",
    "\n",
    "for idx in tqdm(range(len(raterids[:10]))):\n",
    "    userid = raterids[idx]\n",
    "    accuracy.append(train_agent(userid,seeds,getDocSimGlove,train_ratio=train_ratio))\n",
    "accdf = pd.DataFrame(accuracy)\n",
    "accdf"
   ]
  },
  {
   "cell_type": "code",
   "execution_count": 166,
   "metadata": {},
   "outputs": [
    {
     "name": "stderr",
     "output_type": "stream",
     "text": [
      "  0%|                                                                                           | 0/10 [00:00<?, ?it/s]C:\\Users\\xthbo\\Anaconda3\\lib\\site-packages\\sklearn\\metrics\\_classification.py:1221: UndefinedMetricWarning: Precision is ill-defined and being set to 0.0 due to no predicted samples. Use `zero_division` parameter to control this behavior.\n",
      " 20%|████████████████▌                                                                  | 2/10 [00:01<00:03,  2.38it/s]C:\\Users\\xthbo\\Anaconda3\\lib\\site-packages\\sklearn\\metrics\\_classification.py:1221: UndefinedMetricWarning: Recall is ill-defined and being set to 0.0 due to no true samples. Use `zero_division` parameter to control this behavior.\n",
      "100%|██████████████████████████████████████████████████████████████████████████████████| 10/10 [00:04<00:00,  2.11it/s]\n"
     ]
    },
    {
     "data": {
      "text/html": [
       "<div>\n",
       "<style scoped>\n",
       "    .dataframe tbody tr th:only-of-type {\n",
       "        vertical-align: middle;\n",
       "    }\n",
       "\n",
       "    .dataframe tbody tr th {\n",
       "        vertical-align: top;\n",
       "    }\n",
       "\n",
       "    .dataframe thead th {\n",
       "        text-align: right;\n",
       "    }\n",
       "</style>\n",
       "<table border=\"1\" class=\"dataframe\">\n",
       "  <thead>\n",
       "    <tr style=\"text-align: right;\">\n",
       "      <th></th>\n",
       "      <th>UserID</th>\n",
       "      <th>1_Accuracy</th>\n",
       "      <th>1_Percision</th>\n",
       "      <th>1_Recall</th>\n",
       "      <th>5_Accuracy</th>\n",
       "      <th>5_Percision</th>\n",
       "      <th>5_Recall</th>\n",
       "      <th>30_Accuracy</th>\n",
       "      <th>30_Percision</th>\n",
       "      <th>30_Recall</th>\n",
       "    </tr>\n",
       "  </thead>\n",
       "  <tbody>\n",
       "    <tr>\n",
       "      <th>0</th>\n",
       "      <td>32efff21538c13dd3f8d679dfb66fda0</td>\n",
       "      <td>0.514286</td>\n",
       "      <td>0.301667</td>\n",
       "      <td>0.358333</td>\n",
       "      <td>0.500000</td>\n",
       "      <td>0.186667</td>\n",
       "      <td>0.333333</td>\n",
       "      <td>0.514286</td>\n",
       "      <td>0.366667</td>\n",
       "      <td>0.331667</td>\n",
       "    </tr>\n",
       "    <tr>\n",
       "      <th>1</th>\n",
       "      <td>68eff82422ee0ce341e2b8b635bad447</td>\n",
       "      <td>0.622222</td>\n",
       "      <td>0.210000</td>\n",
       "      <td>0.189286</td>\n",
       "      <td>0.705556</td>\n",
       "      <td>0.533333</td>\n",
       "      <td>0.379405</td>\n",
       "      <td>0.627778</td>\n",
       "      <td>0.480000</td>\n",
       "      <td>0.409784</td>\n",
       "    </tr>\n",
       "    <tr>\n",
       "      <th>2</th>\n",
       "      <td>e154f85dba016fc4d1d07c62061c87a0</td>\n",
       "      <td>0.633333</td>\n",
       "      <td>0.100000</td>\n",
       "      <td>0.050000</td>\n",
       "      <td>0.666667</td>\n",
       "      <td>0.100000</td>\n",
       "      <td>0.033333</td>\n",
       "      <td>0.655556</td>\n",
       "      <td>0.133333</td>\n",
       "      <td>0.125000</td>\n",
       "    </tr>\n",
       "    <tr>\n",
       "      <th>3</th>\n",
       "      <td>2b28aec060b0c3e64e9237c1d757388f</td>\n",
       "      <td>0.828571</td>\n",
       "      <td>0.100000</td>\n",
       "      <td>0.050000</td>\n",
       "      <td>0.714286</td>\n",
       "      <td>0.200000</td>\n",
       "      <td>0.108333</td>\n",
       "      <td>0.635714</td>\n",
       "      <td>0.430833</td>\n",
       "      <td>0.434762</td>\n",
       "    </tr>\n",
       "    <tr>\n",
       "      <th>4</th>\n",
       "      <td>531b3014dafd0c2318b9d96e3a70290e</td>\n",
       "      <td>0.454545</td>\n",
       "      <td>0.531111</td>\n",
       "      <td>0.479286</td>\n",
       "      <td>0.509091</td>\n",
       "      <td>0.440913</td>\n",
       "      <td>0.773333</td>\n",
       "      <td>0.436364</td>\n",
       "      <td>0.517222</td>\n",
       "      <td>0.655040</td>\n",
       "    </tr>\n",
       "    <tr>\n",
       "      <th>5</th>\n",
       "      <td>7a9e974b437f3b16cbcd7798d92f2b2b</td>\n",
       "      <td>0.788889</td>\n",
       "      <td>0.200000</td>\n",
       "      <td>0.073333</td>\n",
       "      <td>0.733333</td>\n",
       "      <td>0.050000</td>\n",
       "      <td>0.025000</td>\n",
       "      <td>0.705556</td>\n",
       "      <td>0.308333</td>\n",
       "      <td>0.161905</td>\n",
       "    </tr>\n",
       "    <tr>\n",
       "      <th>6</th>\n",
       "      <td>269139e2ecc370ba50e750fe0b92fd26</td>\n",
       "      <td>0.372727</td>\n",
       "      <td>0.305476</td>\n",
       "      <td>0.345238</td>\n",
       "      <td>0.445455</td>\n",
       "      <td>0.501667</td>\n",
       "      <td>0.358810</td>\n",
       "      <td>0.500000</td>\n",
       "      <td>0.415476</td>\n",
       "      <td>0.533810</td>\n",
       "    </tr>\n",
       "    <tr>\n",
       "      <th>7</th>\n",
       "      <td>e3ed5f7cf078d072db53d04aa2507b48</td>\n",
       "      <td>0.490909</td>\n",
       "      <td>0.416667</td>\n",
       "      <td>0.264286</td>\n",
       "      <td>0.500000</td>\n",
       "      <td>0.416429</td>\n",
       "      <td>0.420714</td>\n",
       "      <td>0.536364</td>\n",
       "      <td>0.520714</td>\n",
       "      <td>0.605952</td>\n",
       "    </tr>\n",
       "    <tr>\n",
       "      <th>8</th>\n",
       "      <td>1b0417e7f9370a665795348a1eaa74d2</td>\n",
       "      <td>0.433333</td>\n",
       "      <td>0.496667</td>\n",
       "      <td>0.441667</td>\n",
       "      <td>0.533333</td>\n",
       "      <td>0.505238</td>\n",
       "      <td>0.431667</td>\n",
       "      <td>0.455556</td>\n",
       "      <td>0.472857</td>\n",
       "      <td>0.583333</td>\n",
       "    </tr>\n",
       "    <tr>\n",
       "      <th>9</th>\n",
       "      <td>3844b655c892e04a56000c6b538a4c39</td>\n",
       "      <td>0.772727</td>\n",
       "      <td>0.000000</td>\n",
       "      <td>0.000000</td>\n",
       "      <td>0.763636</td>\n",
       "      <td>0.000000</td>\n",
       "      <td>0.000000</td>\n",
       "      <td>0.836364</td>\n",
       "      <td>0.583333</td>\n",
       "      <td>0.450000</td>\n",
       "    </tr>\n",
       "  </tbody>\n",
       "</table>\n",
       "</div>"
      ],
      "text/plain": [
       "                             UserID  1_Accuracy  1_Percision  1_Recall  \\\n",
       "0  32efff21538c13dd3f8d679dfb66fda0    0.514286     0.301667  0.358333   \n",
       "1  68eff82422ee0ce341e2b8b635bad447    0.622222     0.210000  0.189286   \n",
       "2  e154f85dba016fc4d1d07c62061c87a0    0.633333     0.100000  0.050000   \n",
       "3  2b28aec060b0c3e64e9237c1d757388f    0.828571     0.100000  0.050000   \n",
       "4  531b3014dafd0c2318b9d96e3a70290e    0.454545     0.531111  0.479286   \n",
       "5  7a9e974b437f3b16cbcd7798d92f2b2b    0.788889     0.200000  0.073333   \n",
       "6  269139e2ecc370ba50e750fe0b92fd26    0.372727     0.305476  0.345238   \n",
       "7  e3ed5f7cf078d072db53d04aa2507b48    0.490909     0.416667  0.264286   \n",
       "8  1b0417e7f9370a665795348a1eaa74d2    0.433333     0.496667  0.441667   \n",
       "9  3844b655c892e04a56000c6b538a4c39    0.772727     0.000000  0.000000   \n",
       "\n",
       "   5_Accuracy  5_Percision  5_Recall  30_Accuracy  30_Percision  30_Recall  \n",
       "0    0.500000     0.186667  0.333333     0.514286      0.366667   0.331667  \n",
       "1    0.705556     0.533333  0.379405     0.627778      0.480000   0.409784  \n",
       "2    0.666667     0.100000  0.033333     0.655556      0.133333   0.125000  \n",
       "3    0.714286     0.200000  0.108333     0.635714      0.430833   0.434762  \n",
       "4    0.509091     0.440913  0.773333     0.436364      0.517222   0.655040  \n",
       "5    0.733333     0.050000  0.025000     0.705556      0.308333   0.161905  \n",
       "6    0.445455     0.501667  0.358810     0.500000      0.415476   0.533810  \n",
       "7    0.500000     0.416429  0.420714     0.536364      0.520714   0.605952  \n",
       "8    0.533333     0.505238  0.431667     0.455556      0.472857   0.583333  \n",
       "9    0.763636     0.000000  0.000000     0.836364      0.583333   0.450000  "
      ]
     },
     "execution_count": 166,
     "metadata": {},
     "output_type": "execute_result"
    },
    {
     "data": {
      "image/png": "[encoded data removed]",
      "text/plain": [
       "<Figure size 432x288 with 1 Axes>"
      ]
     },
     "metadata": {
      "needs_background": "light"
     },
     "output_type": "display_data"
    }
   ],
   "source": [
    "\n",
    "train_ratio = 0.8\n",
    "accuracy = []\n",
    "for idx in tqdm(range(len(raterids[:10]))):\n",
    "    userid = raterids[idx]\n",
    "    accuracy.append(train_agent(userid,seeds,getDocSimGlove,train_ratio=train_ratio))\n",
    "accdf = pd.DataFrame(accuracy)\n",
    "accdf.boxplot(column=['1_Accuracy', '5_Accuracy','30_Accuracy'])\n",
    "plt.ylim([0,1])\n",
    "accdf"
   ]
  },
  {
   "cell_type": "code",
   "execution_count": 168,
   "metadata": {},
   "outputs": [
    {
     "name": "stderr",
     "output_type": "stream",
     "text": [
      "  0%|                                                                                           | 0/10 [00:00<?, ?it/s]C:\\Users\\xthbo\\Anaconda3\\lib\\site-packages\\sklearn\\metrics\\_classification.py:1221: UndefinedMetricWarning: Precision is ill-defined and being set to 0.0 due to no predicted samples. Use `zero_division` parameter to control this behavior.\n",
      " 20%|████████████████▌                                                                  | 2/10 [00:06<00:21,  2.67s/it]C:\\Users\\xthbo\\Anaconda3\\lib\\site-packages\\sklearn\\metrics\\_classification.py:1221: UndefinedMetricWarning: Recall is ill-defined and being set to 0.0 due to no true samples. Use `zero_division` parameter to control this behavior.\n",
      "100%|██████████████████████████████████████████████████████████████████████████████████| 10/10 [00:30<00:00,  3.02s/it]\n"
     ]
    },
    {
     "data": {
      "text/plain": [
       "(0.0, 1.0)"
      ]
     },
     "execution_count": 168,
     "metadata": {},
     "output_type": "execute_result"
    },
    {
     "data": {
      "image/png": "[encoded data removed]",
      "text/plain": [
       "<Figure size 432x288 with 1 Axes>"
      ]
     },
     "metadata": {
      "needs_background": "light"
     },
     "output_type": "display_data"
    }
   ],
   "source": [
    "train_ratio = 0.8\n",
    "accuracy = []\n",
    "for idx in tqdm(range(len(raterids[:10]))):\n",
    "    userid = raterids[idx]\n",
    "    accuracy.append(train_agent(userid,seeds,getDocSimGlove,train_ratio=train_ratio,train_rep = 100))\n",
    "accdf = pd.DataFrame(accuracy)\n",
    "accdf.boxplot(column=['1_Accuracy', '5_Accuracy','30_Accuracy'])\n",
    "plt.ylim([0,1])\n"
   ]
  },
  {
   "cell_type": "code",
   "execution_count": 170,
   "metadata": {},
   "outputs": [
    {
     "name": "stderr",
     "output_type": "stream",
     "text": [
      "100%|██████████████████████████████████████████████████████████████████████████████████| 10/10 [04:00<00:00, 24.06s/it]\n"
     ]
    },
    {
     "data": {
      "text/html": [
       "<div>\n",
       "<style scoped>\n",
       "    .dataframe tbody tr th:only-of-type {\n",
       "        vertical-align: middle;\n",
       "    }\n",
       "\n",
       "    .dataframe tbody tr th {\n",
       "        vertical-align: top;\n",
       "    }\n",
       "\n",
       "    .dataframe thead th {\n",
       "        text-align: right;\n",
       "    }\n",
       "</style>\n",
       "<table border=\"1\" class=\"dataframe\">\n",
       "  <thead>\n",
       "    <tr style=\"text-align: right;\">\n",
       "      <th></th>\n",
       "      <th>UserID</th>\n",
       "      <th>1_Accuracy</th>\n",
       "      <th>1_Percision</th>\n",
       "      <th>1_Recall</th>\n",
       "      <th>5_Accuracy</th>\n",
       "      <th>5_Percision</th>\n",
       "      <th>5_Recall</th>\n",
       "      <th>30_Accuracy</th>\n",
       "      <th>30_Percision</th>\n",
       "      <th>30_Recall</th>\n",
       "    </tr>\n",
       "  </thead>\n",
       "  <tbody>\n",
       "    <tr>\n",
       "      <th>0</th>\n",
       "      <td>32efff21538c13dd3f8d679dfb66fda0</td>\n",
       "      <td>0.585714</td>\n",
       "      <td>0.440000</td>\n",
       "      <td>0.566667</td>\n",
       "      <td>0.700000</td>\n",
       "      <td>0.643333</td>\n",
       "      <td>0.633333</td>\n",
       "      <td>0.657143</td>\n",
       "      <td>0.565000</td>\n",
       "      <td>0.648333</td>\n",
       "    </tr>\n",
       "    <tr>\n",
       "      <th>1</th>\n",
       "      <td>68eff82422ee0ce341e2b8b635bad447</td>\n",
       "      <td>0.627778</td>\n",
       "      <td>0.446905</td>\n",
       "      <td>0.302341</td>\n",
       "      <td>0.744444</td>\n",
       "      <td>0.585238</td>\n",
       "      <td>0.629643</td>\n",
       "      <td>0.644444</td>\n",
       "      <td>0.513359</td>\n",
       "      <td>0.577208</td>\n",
       "    </tr>\n",
       "    <tr>\n",
       "      <th>2</th>\n",
       "      <td>e154f85dba016fc4d1d07c62061c87a0</td>\n",
       "      <td>0.633333</td>\n",
       "      <td>0.300000</td>\n",
       "      <td>0.091667</td>\n",
       "      <td>0.800000</td>\n",
       "      <td>0.800000</td>\n",
       "      <td>0.491667</td>\n",
       "      <td>0.711111</td>\n",
       "      <td>0.550000</td>\n",
       "      <td>0.308333</td>\n",
       "    </tr>\n",
       "    <tr>\n",
       "      <th>3</th>\n",
       "      <td>2b28aec060b0c3e64e9237c1d757388f</td>\n",
       "      <td>0.800000</td>\n",
       "      <td>0.100000</td>\n",
       "      <td>0.050000</td>\n",
       "      <td>0.707143</td>\n",
       "      <td>0.250000</td>\n",
       "      <td>0.086667</td>\n",
       "      <td>0.685714</td>\n",
       "      <td>0.601667</td>\n",
       "      <td>0.307857</td>\n",
       "    </tr>\n",
       "    <tr>\n",
       "      <th>4</th>\n",
       "      <td>531b3014dafd0c2318b9d96e3a70290e</td>\n",
       "      <td>0.590909</td>\n",
       "      <td>0.593452</td>\n",
       "      <td>0.622381</td>\n",
       "      <td>0.700000</td>\n",
       "      <td>0.581984</td>\n",
       "      <td>0.841667</td>\n",
       "      <td>0.718182</td>\n",
       "      <td>0.759643</td>\n",
       "      <td>0.738373</td>\n",
       "    </tr>\n",
       "    <tr>\n",
       "      <th>5</th>\n",
       "      <td>7a9e974b437f3b16cbcd7798d92f2b2b</td>\n",
       "      <td>0.777778</td>\n",
       "      <td>0.000000</td>\n",
       "      <td>0.000000</td>\n",
       "      <td>0.722222</td>\n",
       "      <td>0.241667</td>\n",
       "      <td>0.145000</td>\n",
       "      <td>0.711111</td>\n",
       "      <td>0.441667</td>\n",
       "      <td>0.332857</td>\n",
       "    </tr>\n",
       "    <tr>\n",
       "      <th>6</th>\n",
       "      <td>269139e2ecc370ba50e750fe0b92fd26</td>\n",
       "      <td>0.536364</td>\n",
       "      <td>0.573333</td>\n",
       "      <td>0.377619</td>\n",
       "      <td>0.636364</td>\n",
       "      <td>0.767857</td>\n",
       "      <td>0.514762</td>\n",
       "      <td>0.600000</td>\n",
       "      <td>0.508214</td>\n",
       "      <td>0.522143</td>\n",
       "    </tr>\n",
       "    <tr>\n",
       "      <th>7</th>\n",
       "      <td>e3ed5f7cf078d072db53d04aa2507b48</td>\n",
       "      <td>0.554545</td>\n",
       "      <td>0.665000</td>\n",
       "      <td>0.365476</td>\n",
       "      <td>0.645455</td>\n",
       "      <td>0.698333</td>\n",
       "      <td>0.487381</td>\n",
       "      <td>0.600000</td>\n",
       "      <td>0.608333</td>\n",
       "      <td>0.523333</td>\n",
       "    </tr>\n",
       "    <tr>\n",
       "      <th>8</th>\n",
       "      <td>1b0417e7f9370a665795348a1eaa74d2</td>\n",
       "      <td>0.411111</td>\n",
       "      <td>0.433333</td>\n",
       "      <td>0.218333</td>\n",
       "      <td>0.600000</td>\n",
       "      <td>0.660000</td>\n",
       "      <td>0.410000</td>\n",
       "      <td>0.533333</td>\n",
       "      <td>0.466667</td>\n",
       "      <td>0.375000</td>\n",
       "    </tr>\n",
       "    <tr>\n",
       "      <th>9</th>\n",
       "      <td>3844b655c892e04a56000c6b538a4c39</td>\n",
       "      <td>0.772727</td>\n",
       "      <td>0.000000</td>\n",
       "      <td>0.000000</td>\n",
       "      <td>0.809091</td>\n",
       "      <td>0.316667</td>\n",
       "      <td>0.236667</td>\n",
       "      <td>0.718182</td>\n",
       "      <td>0.423333</td>\n",
       "      <td>0.550000</td>\n",
       "    </tr>\n",
       "  </tbody>\n",
       "</table>\n",
       "</div>"
      ],
      "text/plain": [
       "                             UserID  1_Accuracy  1_Percision  1_Recall  \\\n",
       "0  32efff21538c13dd3f8d679dfb66fda0    0.585714     0.440000  0.566667   \n",
       "1  68eff82422ee0ce341e2b8b635bad447    0.627778     0.446905  0.302341   \n",
       "2  e154f85dba016fc4d1d07c62061c87a0    0.633333     0.300000  0.091667   \n",
       "3  2b28aec060b0c3e64e9237c1d757388f    0.800000     0.100000  0.050000   \n",
       "4  531b3014dafd0c2318b9d96e3a70290e    0.590909     0.593452  0.622381   \n",
       "5  7a9e974b437f3b16cbcd7798d92f2b2b    0.777778     0.000000  0.000000   \n",
       "6  269139e2ecc370ba50e750fe0b92fd26    0.536364     0.573333  0.377619   \n",
       "7  e3ed5f7cf078d072db53d04aa2507b48    0.554545     0.665000  0.365476   \n",
       "8  1b0417e7f9370a665795348a1eaa74d2    0.411111     0.433333  0.218333   \n",
       "9  3844b655c892e04a56000c6b538a4c39    0.772727     0.000000  0.000000   \n",
       "\n",
       "   5_Accuracy  5_Percision  5_Recall  30_Accuracy  30_Percision  30_Recall  \n",
       "0    0.700000     0.643333  0.633333     0.657143      0.565000   0.648333  \n",
       "1    0.744444     0.585238  0.629643     0.644444      0.513359   0.577208  \n",
       "2    0.800000     0.800000  0.491667     0.711111      0.550000   0.308333  \n",
       "3    0.707143     0.250000  0.086667     0.685714      0.601667   0.307857  \n",
       "4    0.700000     0.581984  0.841667     0.718182      0.759643   0.738373  \n",
       "5    0.722222     0.241667  0.145000     0.711111      0.441667   0.332857  \n",
       "6    0.636364     0.767857  0.514762     0.600000      0.508214   0.522143  \n",
       "7    0.645455     0.698333  0.487381     0.600000      0.608333   0.523333  \n",
       "8    0.600000     0.660000  0.410000     0.533333      0.466667   0.375000  \n",
       "9    0.809091     0.316667  0.236667     0.718182      0.423333   0.550000  "
      ]
     },
     "execution_count": 170,
     "metadata": {},
     "output_type": "execute_result"
    }
   ],
   "source": [
    "#finetuned bert\n",
    "train_ratio = 0.8\n",
    "accuracy = []\n",
    "for idx in tqdm(range(len(raterids[:10]))):\n",
    "    userid = raterids[idx]\n",
    "    accuracy.append(train_agent(userid,seeds,getDocSimBert,train_ratio=train_ratio))\n",
    "accdf = pd.DataFrame(accuracy)\n",
    "accdf"
   ]
  },
  {
   "cell_type": "code",
   "execution_count": 171,
   "metadata": {},
   "outputs": [
    {
     "data": {
      "text/plain": [
       "(0.0, 1.0)"
      ]
     },
     "execution_count": 171,
     "metadata": {},
     "output_type": "execute_result"
    },
    {
     "data": {
      "image/png": "[encoded data removed]",
      "text/plain": [
       "<Figure size 432x288 with 1 Axes>"
      ]
     },
     "metadata": {
      "needs_background": "light"
     },
     "output_type": "display_data"
    }
   ],
   "source": [
    "accdf.boxplot(column=['1_Accuracy', '5_Accuracy','30_Accuracy'])\n",
    "plt.ylim([0,1])"
   ]
  },
  {
   "cell_type": "code",
   "execution_count": 206,
   "metadata": {},
   "outputs": [
    {
     "name": "stderr",
     "output_type": "stream",
     "text": [
      "  0%|                                                                                           | 0/84 [00:00<?, ?it/s]C:\\Users\\xthbo\\Anaconda3\\lib\\site-packages\\sklearn\\metrics\\_classification.py:1221: UndefinedMetricWarning: Precision is ill-defined and being set to 0.0 due to no predicted samples. Use `zero_division` parameter to control this behavior.\n",
      "C:\\Users\\xthbo\\Anaconda3\\lib\\site-packages\\sklearn\\metrics\\_classification.py:1221: UndefinedMetricWarning: Recall is ill-defined and being set to 0.0 due to no true samples. Use `zero_division` parameter to control this behavior.\n",
      "  4%|██▉                                                                                | 3/84 [00:04<01:33,  1.16s/it]C:\\Users\\xthbo\\Anaconda3\\lib\\site-packages\\pyactup.py:556: UserWarning: similarity value is greater than the maximum allowed, 1, so that maximum value is being used instead\n",
      "100%|██████████████████████████████████████████████████████████████████████████████████| 84/84 [03:40<00:00,  2.63s/it]\n"
     ]
    },
    {
     "data": {
      "text/plain": [
       "1_Accuracy          0.743837\n",
       "1_Percision         0.658430\n",
       "1_Recall            0.606231\n",
       "1_var_Accuracy      0.024795\n",
       "1_var_Percision     0.021948\n",
       "1_var_Recall        0.020208\n",
       "5_Accuracy          0.809608\n",
       "5_Percision         0.773027\n",
       "5_Recall            0.746217\n",
       "5_var_Accuracy      0.026987\n",
       "5_var_Percision     0.025768\n",
       "5_var_Recall        0.024874\n",
       "30_Accuracy         0.817830\n",
       "30_Percision        0.769485\n",
       "30_Recall           0.763181\n",
       "30_var_Accuracy     0.027261\n",
       "30_var_Percision    0.025649\n",
       "30_var_Recall       0.025439\n",
       "dtype: float64"
      ]
     },
     "execution_count": 206,
     "metadata": {},
     "output_type": "execute_result"
    },
    {
     "data": {
      "image/png": "[encoded data removed]",
      "text/plain": [
       "<Figure size 432x288 with 1 Axes>"
      ]
     },
     "metadata": {
      "needs_background": "light"
     },
     "output_type": "display_data"
    }
   ],
   "source": [
    "train_ratio = 0.8\n",
    "accuracy = []\n",
    "#userid = '2b4c74efa1d54d9b9b3642ea5243e63f'\n",
    "for idx in tqdm(range(len(raterids))):\n",
    "    userid = raterids[idx]\n",
    "    accuracy.append(train_agent(userid,seeds,getDocSimSurvey,survey = True,train_ratio=train_ratio))\n",
    "accdf = pd.DataFrame(accuracy)\n",
    "accdf.boxplot(column=['1_Accuracy', '5_Accuracy','30_Accuracy'])\n",
    "\n",
    "plt.ylim([0,1])\n",
    "accdf.mean()"
   ]
  },
  {
   "cell_type": "code",
   "execution_count": 207,
   "metadata": {},
   "outputs": [
    {
     "name": "stderr",
     "output_type": "stream",
     "text": [
      "  2%|█▉                                                                                 | 2/84 [00:05<02:55,  2.15s/it]C:\\Users\\xthbo\\Anaconda3\\lib\\site-packages\\sklearn\\metrics\\_classification.py:1221: UndefinedMetricWarning: Precision is ill-defined and being set to 0.0 due to no predicted samples. Use `zero_division` parameter to control this behavior.\n",
      "  4%|██▉                                                                                | 3/84 [00:07<02:35,  1.92s/it]C:\\Users\\xthbo\\Anaconda3\\lib\\site-packages\\pyactup.py:556: UserWarning: similarity value is greater than the maximum allowed, 1, so that maximum value is being used instead\n",
      "100%|██████████████████████████████████████████████████████████████████████████████████| 84/84 [06:26<00:00,  4.60s/it]\n"
     ]
    },
    {
     "data": {
      "text/plain": [
       "1_Accuracy          0.722708\n",
       "1_Percision         0.672941\n",
       "1_Recall            0.591435\n",
       "1_var_Accuracy      0.024090\n",
       "1_var_Percision     0.022431\n",
       "1_var_Recall        0.019715\n",
       "5_Accuracy          0.789818\n",
       "5_Percision         0.753739\n",
       "5_Recall            0.725869\n",
       "5_var_Accuracy      0.026327\n",
       "5_var_Percision     0.025125\n",
       "5_var_Recall        0.024196\n",
       "30_Accuracy         0.797685\n",
       "30_Percision        0.754450\n",
       "30_Recall           0.745660\n",
       "30_var_Accuracy     0.026590\n",
       "30_var_Percision    0.025148\n",
       "30_var_Recall       0.024855\n",
       "dtype: float64"
      ]
     },
     "execution_count": 207,
     "metadata": {},
     "output_type": "execute_result"
    },
    {
     "data": {
      "image/png": "[encoded data removed]",
      "text/plain": [
       "<Figure size 432x288 with 1 Axes>"
      ]
     },
     "metadata": {
      "needs_background": "light"
     },
     "output_type": "display_data"
    }
   ],
   "source": [
    "train_ratio = 0.5\n",
    "accuracy = []\n",
    "#userid = '2b4c74efa1d54d9b9b3642ea5243e63f'\n",
    "for idx in tqdm(range(len(raterids))):\n",
    "    userid = raterids[idx]\n",
    "    accuracy.append(train_agent(userid,seeds,getDocSimSurvey,survey = True,train_ratio=train_ratio))\n",
    "accdf = pd.DataFrame(accuracy)\n",
    "accdf.boxplot(column=['1_Accuracy', '5_Accuracy','30_Accuracy'])\n",
    "plt.ylim([0,1])\n",
    "accdf.to_csv('Result.valid/Survey.csv',index = False)\n",
    "accdf.mean()"
   ]
  },
  {
   "cell_type": "code",
   "execution_count": 176,
   "metadata": {},
   "outputs": [
    {
     "name": "stderr",
     "output_type": "stream",
     "text": [
      "  0%|                                                                                           | 0/84 [00:00<?, ?it/s]C:\\Users\\xthbo\\Anaconda3\\lib\\site-packages\\sklearn\\metrics\\_classification.py:1221: UndefinedMetricWarning: Precision is ill-defined and being set to 0.0 due to no predicted samples. Use `zero_division` parameter to control this behavior.\n",
      "  2%|█▉                                                                                 | 2/84 [00:01<00:35,  2.33it/s]C:\\Users\\xthbo\\Anaconda3\\lib\\site-packages\\sklearn\\metrics\\_classification.py:1221: UndefinedMetricWarning: Recall is ill-defined and being set to 0.0 due to no true samples. Use `zero_division` parameter to control this behavior.\n",
      "  4%|██▉                                                                                | 3/84 [00:01<00:31,  2.59it/s]C:\\Users\\xthbo\\Anaconda3\\lib\\site-packages\\pyactup.py:556: UserWarning: similarity value is greater than the maximum allowed, 1, so that maximum value is being used instead\n",
      "100%|██████████████████████████████████████████████████████████████████████████████████| 84/84 [01:13<00:00,  1.15it/s]\n"
     ]
    },
    {
     "data": {
      "text/plain": [
       "1_Accuracy      0.741095\n",
       "1_Percision     0.652475\n",
       "1_Recall        0.603313\n",
       "5_Accuracy      0.808171\n",
       "5_Percision     0.762424\n",
       "5_Recall        0.749026\n",
       "30_Accuracy     0.811673\n",
       "30_Percision    0.764651\n",
       "30_Recall       0.754264\n",
       "dtype: float64"
      ]
     },
     "execution_count": 176,
     "metadata": {},
     "output_type": "execute_result"
    },
    {
     "data": {
      "image/png": "[encoded data removed]",
      "text/plain": [
       "<Figure size 432x288 with 1 Axes>"
      ]
     },
     "metadata": {
      "needs_background": "light"
     },
     "output_type": "display_data"
    }
   ],
   "source": [
    "train_ratio = 0.8\n",
    "accuracy = []\n",
    "#userid = '2b4c74efa1d54d9b9b3642ea5243e63f'\n",
    "for idx in tqdm(range(len(raterids))):\n",
    "    userid = raterids[idx]\n",
    "    accuracy.append(train_agent(userid,seeds,getDocSimSurvey,survey = True,train_ratio=train_ratio))\n",
    "accdf = pd.DataFrame(accuracy)\n",
    "accdf.boxplot(column=['1_Accuracy', '5_Accuracy','30_Accuracy'])\n",
    "plt.ylim([0,1])\n",
    "accdf.mean()"
   ]
  },
  {
   "cell_type": "code",
   "execution_count": 35,
   "metadata": {},
   "outputs": [
    {
     "data": {
      "text/plain": [
       "1_Accuracy      0.627197\n",
       "1_Percision     0.512007\n",
       "1_Recall        0.388475\n",
       "5_Accuracy      0.695075\n",
       "5_Percision     0.639583\n",
       "5_Recall        0.534198\n",
       "30_Accuracy     0.689550\n",
       "30_Percision    0.612320\n",
       "30_Recall       0.604460\n",
       "dtype: float64"
      ]
     },
     "execution_count": 35,
     "metadata": {},
     "output_type": "execute_result"
    }
   ],
   "source": [
    "accdf = pd.DataFrame(accuracy)\n",
    "#accdf = pd.merge(accdf,counts, left_on = 'UserID',right_on ='RaterID').rename(columns = {'index':'Counts'})\n",
    "#accdf.to_csv('user_response.csv',index = False)\n",
    "\n",
    "#accdf.to_csv('baseline_lsa.csv',index = False)\n",
    "#accdf.to_csv('baseline_glove.csv',index = False)\n",
    "#accdf = pd.merge(accdf,counts, left_on = 'UserID',right_on ='RaterID').rename(columns = {'index':'Counts'})\n",
    "#accdf.to_csv('Fine_tuned_distil_roberta.csv')\n",
    "#accdf.to_csv('Bert_baseline_sim.csv')\n",
    "#accdf.to_csv('Fine_tuned_distil_roberta.model1.csv')\n",
    "\n",
    "#nfile = './Result/LSA'\n",
    "#nfile = './Result/Survey'\n",
    "#nfile = './Result/Semantic_DistilBert'\n",
    "#nfile = './Result/Finetune_DistilBert'\n",
    "\n",
    "#nfile = './Result80_20/LSA'\n",
    "#nfile = './Result80_20/Glove'\n",
    "\n",
    "#nfile = './Result80_20/Survey'\n",
    "#nfile = './Result80_20/Semantic_DistilBert'\n",
    "#nfile = './Result80_20/Finetune_DistilBert.valid'\n",
    "#accdf.to_csv(nfile+'.csv',index = False)\n",
    "accdf.mean()"
   ]
  },
  {
   "cell_type": "code",
   "execution_count": 138,
   "metadata": {},
   "outputs": [
    {
     "data": {
      "text/plain": [
       "(0.0, 1.0)"
      ]
     },
     "execution_count": 138,
     "metadata": {},
     "output_type": "execute_result"
    },
    {
     "data": {
      "image/png": "[encoded data removed]",
      "text/plain": [
       "<Figure size 432x288 with 1 Axes>"
      ]
     },
     "metadata": {
      "needs_background": "light"
     },
     "output_type": "display_data"
    }
   ],
   "source": [
    "\n",
    "\n",
    "accdf = pd.read_csv('Fine_tuned_distil_roberta.model1.csv')\n",
    "boxplot = accdf.boxplot(column=['5_Accuracy', '5_Percision', '5_Recall', \n",
    "                               # '30_Accuracy','30_Percision', '30_Recall', \n",
    "                               # '50_Accuracy', '50_Percision', '50_Recall',\n",
    "                               '90_Accuracy', '90_Percision', '90_Recall'])\n",
    "plt.title('Fine-Tuned distil roberta 2 Randonmized')\n",
    "plt.xlabel('Mismatch Penalty')\n",
    "plt.ylabel('Accuracy')\n",
    "plt.tight_layout()\n",
    "plt.xticks(rotation=45)\n",
    "plt.ylim([0,1])"
   ]
  },
  {
   "cell_type": "code",
   "execution_count": 16,
   "metadata": {},
   "outputs": [
    {
     "data": {
      "text/plain": [
       "Text(0.5, 0, 'Recall')"
      ]
     },
     "execution_count": 16,
     "metadata": {},
     "output_type": "execute_result"
    },
    {
     "data": {
      "image/png": "[encoded data removed]",
      "text/plain": [
       "<Figure size 432x288 with 1 Axes>"
      ]
     },
     "metadata": {
      "needs_background": "light"
     },
     "output_type": "display_data"
    }
   ],
   "source": [
    "accdf = pd.read_csv('Fine_tuned_distil_roberta.model1.csv')\n",
    "plt.plot(accdf['5_Recall'],accdf['5_Percision'],'.')\n",
    "plt.ylim([0,1])\n",
    "plt.xlim([0,1])\n",
    "plt.ylabel('Percision')\n",
    "plt.xlabel('Recall')"
   ]
  },
  {
   "cell_type": "raw",
   "metadata": {},
   "source": []
  },
  {
   "cell_type": "code",
   "execution_count": 34,
   "metadata": {},
   "outputs": [
    {
     "name": "stderr",
     "output_type": "stream",
     "text": [
      "100%|████████████████████████████████████████████████████████████████████████████████| 84/84 [1:21:06<00:00, 57.94s/it]\n"
     ]
    }
   ],
   "source": [
    "accruacy = []\n",
    "for idx in tqdm(range(len(raterids))):\n",
    "    userid = raterids[idx]\n",
    "    accruacy.append(train_agent(userid,True))\n",
    "accdf = pd.DataFrame(accruacy)\n",
    "#accdf = pd.merge(accdf,counts, left_on = 'UserID',right_on ='RaterID').rename(columns = {'index':'Counts'})\n",
    "accdf.to_csv('user_response_randonmized.csv',index = False)"
   ]
  },
  {
   "cell_type": "code",
   "execution_count": 43,
   "metadata": {},
   "outputs": [
    {
     "data": {
      "text/html": [
       "<div>\n",
       "<style scoped>\n",
       "    .dataframe tbody tr th:only-of-type {\n",
       "        vertical-align: middle;\n",
       "    }\n",
       "\n",
       "    .dataframe tbody tr th {\n",
       "        vertical-align: top;\n",
       "    }\n",
       "\n",
       "    .dataframe thead th {\n",
       "        text-align: right;\n",
       "    }\n",
       "</style>\n",
       "<table border=\"1\" class=\"dataframe\">\n",
       "  <thead>\n",
       "    <tr style=\"text-align: right;\">\n",
       "      <th></th>\n",
       "      <th>UserID</th>\n",
       "      <th>5</th>\n",
       "      <th>30</th>\n",
       "      <th>50</th>\n",
       "      <th>90</th>\n",
       "      <th>Counts</th>\n",
       "    </tr>\n",
       "  </thead>\n",
       "  <tbody>\n",
       "    <tr>\n",
       "      <th>0</th>\n",
       "      <td>32efff21538c13dd3f8d679dfb66fda0</td>\n",
       "      <td>0.422222</td>\n",
       "      <td>0.416667</td>\n",
       "      <td>0.388889</td>\n",
       "      <td>0.394444</td>\n",
       "      <td>35</td>\n",
       "    </tr>\n",
       "    <tr>\n",
       "      <th>1</th>\n",
       "      <td>68eff82422ee0ce341e2b8b635bad447</td>\n",
       "      <td>0.686364</td>\n",
       "      <td>0.713636</td>\n",
       "      <td>0.743182</td>\n",
       "      <td>0.754545</td>\n",
       "      <td>87</td>\n",
       "    </tr>\n",
       "    <tr>\n",
       "      <th>2</th>\n",
       "      <td>e154f85dba016fc4d1d07c62061c87a0</td>\n",
       "      <td>0.759091</td>\n",
       "      <td>0.759091</td>\n",
       "      <td>0.740909</td>\n",
       "      <td>0.736364</td>\n",
       "      <td>43</td>\n",
       "    </tr>\n",
       "    <tr>\n",
       "      <th>3</th>\n",
       "      <td>2b28aec060b0c3e64e9237c1d757388f</td>\n",
       "      <td>0.800000</td>\n",
       "      <td>0.793939</td>\n",
       "      <td>0.824242</td>\n",
       "      <td>0.818182</td>\n",
       "      <td>66</td>\n",
       "    </tr>\n",
       "    <tr>\n",
       "      <th>4</th>\n",
       "      <td>531b3014dafd0c2318b9d96e3a70290e</td>\n",
       "      <td>0.765385</td>\n",
       "      <td>0.769231</td>\n",
       "      <td>0.769231</td>\n",
       "      <td>0.769231</td>\n",
       "      <td>52</td>\n",
       "    </tr>\n",
       "  </tbody>\n",
       "</table>\n",
       "</div>"
      ],
      "text/plain": [
       "                             UserID         5        30        50        90  \\\n",
       "0  32efff21538c13dd3f8d679dfb66fda0  0.422222  0.416667  0.388889  0.394444   \n",
       "1  68eff82422ee0ce341e2b8b635bad447  0.686364  0.713636  0.743182  0.754545   \n",
       "2  e154f85dba016fc4d1d07c62061c87a0  0.759091  0.759091  0.740909  0.736364   \n",
       "3  2b28aec060b0c3e64e9237c1d757388f  0.800000  0.793939  0.824242  0.818182   \n",
       "4  531b3014dafd0c2318b9d96e3a70290e  0.765385  0.769231  0.769231  0.769231   \n",
       "\n",
       "   Counts  \n",
       "0      35  \n",
       "1      87  \n",
       "2      43  \n",
       "3      66  \n",
       "4      52  "
      ]
     },
     "execution_count": 43,
     "metadata": {},
     "output_type": "execute_result"
    }
   ],
   "source": [
    "accdf = pd.DataFrame(accruacy)\n",
    "accdf = pd.merge(accdf,counts, left_on = 'UserID',right_on ='RaterID').rename(columns = {'index':'Counts'})\n",
    "\n",
    "accdf"
   ]
  },
  {
   "cell_type": "code",
   "execution_count": 102,
   "metadata": {},
   "outputs": [
    {
     "data": {
      "image/png": "[encoded data removed]",
      "text/plain": [
       "<Figure size 1440x288 with 6 Axes>"
      ]
     },
     "metadata": {
      "needs_background": "light"
     },
     "output_type": "display_data"
    }
   ],
   "source": [
    "plt.figure(figsize = (20,4))\n",
    "plt.subplot(1,6,1)\n",
    "accdf = pd.read_csv('baseline_lsa.csv')\n",
    "boxplot = accdf.boxplot(column=['5', '15','30'])\n",
    "plt.ylim([0.3,1])\n",
    "plt.title('LSA')\n",
    "plt.xlabel('Mismatch Penalty')\n",
    "plt.ylabel('Accuracy')\n",
    "\n",
    "plt.subplot(1,6,2)\n",
    "accdf = pd.read_csv('Bert_baseline_sim.csv')\n",
    "boxplot = accdf.boxplot(column=['5', '15','30'])\n",
    "plt.title('BERT-based')\n",
    "plt.xlabel('Mismatch Penalty')\n",
    "plt.ylabel('Accuracy')\n",
    "plt.ylim([0.3,1])\n",
    "\n",
    "plt.subplot(1,6,3)\n",
    "accdf = pd.read_csv('Fine_tuned_distil_roberta.csv')\n",
    "boxplot = accdf.boxplot(column=['5', '30','50','90'])\n",
    "plt.title('Fine-Tuned distil roberta Randonmized')\n",
    "plt.xlabel('Mismatch Penalty')\n",
    "plt.ylabel('Accuracy')\n",
    "plt.tight_layout()\n",
    "plt.ylim([0.3,1])\n",
    "\n",
    "\n",
    "plt.subplot(1,6,4)\n",
    "accdf = pd.read_csv('user_response.csv')\n",
    "boxplot = accdf.boxplot(column=['5', '30','50','90'])\n",
    "plt.title('End-User Survey')\n",
    "plt.xlabel('Mismatch Penalty')\n",
    "plt.ylabel('Accuracy')\n",
    "plt.tight_layout()\n",
    "plt.ylim([0.3,1])\n",
    "\n",
    "plt.subplot(1,6,5)\n",
    "accdf = pd.read_csv('user_response_randonmized.csv')\n",
    "boxplot = accdf.boxplot(column=['5', '30','50','90'])\n",
    "plt.title('End-User Survey Randonmized')\n",
    "plt.xlabel('Mismatch Penalty')\n",
    "plt.ylabel('Accuracy')\n",
    "plt.tight_layout()\n",
    "plt.ylim([0.3,1])\n",
    "\n",
    "plt.subplot(1,6,6)\n",
    "accdf = pd.read_csv('Fine_tuned_distil_roberta.model1.csv')\n",
    "boxplot = accdf.boxplot(column=['5_Accuracy', '30_Accuracy',\n",
    "       '50_Accuracy',\n",
    "       '90_Accuracy'])\n",
    "plt.title('Fine-Tuned distil roberta 2 Randonmized')\n",
    "plt.xlabel('Mismatch Penalty')\n",
    "plt.ylabel('Accuracy')\n",
    "plt.tight_layout()\n",
    "plt.ylim([0.3,1])\n",
    "\n",
    "\n",
    "plt.savefig('summaryresult.latest.png')"
   ]
  },
  {
   "cell_type": "code",
   "execution_count": 57,
   "metadata": {},
   "outputs": [
    {
     "data": {
      "text/plain": [
       "(0.45, 1.0)"
      ]
     },
     "execution_count": 57,
     "metadata": {},
     "output_type": "execute_result"
    },
    {
     "data": {
      "image/png": "[encoded data removed]",
      "text/plain": [
       "<Figure size 720x720 with 4 Axes>"
      ]
     },
     "metadata": {
      "needs_background": "light"
     },
     "output_type": "display_data"
    }
   ],
   "source": [
    "\n",
    "def Trial_acc(nfile,title):\n",
    "    accdf = pd.read_csv(nfile)\n",
    "#oder effect \n",
    "#accdf = pd.read_csv('user_response.csv')\n",
    "#accdf = pd.merge(accdf,counts, left_on = 'UserID',right_on ='RaterID').rename(columns = {'index':'Counts'})\n",
    "    x,y = accdf['Counts'],accdf['30']\n",
    "    #boxplot = accdf.boxplot(column=['5', '30','50','90'])\n",
    "    plt.plot(x,y,'.')\n",
    "    plt.xlabel('Trial counts')\n",
    "    plt.ylabel('Accuracy')\n",
    "\n",
    "    m, b = np.polyfit(x, y, 1)\n",
    "    plt.plot(x, m*x + b)\n",
    "    plt.tight_layout()\n",
    "    plt.title(title)\n",
    "plt.figure(figsize = (10,10))\n",
    "\n",
    "plt.subplot(2,2,1)\n",
    "accdf = pd.read_csv('Result/Survey.csv')\n",
    "accdf = pd.merge(accdf,counts, left_on = 'UserID',right_on ='RaterID').rename(columns = {'index':'Counts'})\n",
    "x,y = accdf['Counts'],accdf['30_Accuracy']\n",
    "plt.plot(x,y,'.')\n",
    "plt.title('Number of Trials vs Accruacy MP=30')\n",
    "plt.xlabel('Trial counts')\n",
    "plt.ylabel('Accuracy')\n",
    "\n",
    "m, b = np.polyfit(x, y, 1)\n",
    "plt.plot(x, m*x + b)\n",
    "plt.tight_layout()\n",
    "plt.ylim([0.45,1])\n",
    "plt.subplot(2,2,2)\n",
    "\n",
    "#accdf = pd.read_csv('Fine_tuned_distil_roberta.csv')\n",
    "#oder effect \n",
    "accdf = pd.read_csv('user_response.csv')\n",
    "accdf = pd.merge(accdf,counts, left_on = 'UserID',right_on ='RaterID').rename(columns = {'index':'Counts'})\n",
    "x,y = accdf['Counts'],accdf['30']\n",
    "plt.plot(x,y,'.')\n",
    "plt.title('Number of Trials vs Accruacy MP=30')\n",
    "plt.xlabel('Trial counts')\n",
    "plt.ylabel('Accuracy')\n",
    "\n",
    "m, b = np.polyfit(x, y, 1)\n",
    "plt.plot(x, m*x + b)\n",
    "plt.tight_layout()\n",
    "plt.ylim([0.45,1])\n",
    "\n",
    "plt.subplot(2,2,3)\n",
    "Trial_acc('Fine_tuned_distil_roberta.csv','Distil Roberta fine tune')\n",
    "plt.ylim([0.45,1])\n",
    "\n",
    "plt.subplot(2,2,4)\n",
    "\n",
    "accdf = pd.read_csv('Fine_tuned_distil_roberta.model1.csv')\n",
    "accdf = pd.merge(accdf,counts, left_on = 'UserID',right_on ='RaterID').rename(columns = {'index':'Counts'})\n",
    "x,y = accdf['Counts'],accdf['30_Accuracy']\n",
    "plt.plot(x,y,'.')\n",
    "plt.title('distil Roberta fine tune more')\n",
    "plt.xlabel('Trial counts')\n",
    "plt.ylabel('Accuracy')\n",
    "\n",
    "m, b = np.polyfit(x, y, 1)\n",
    "plt.plot(x, m*x + b)\n",
    "plt.tight_layout()\n",
    "plt.ylim([0.45,1])\n",
    "#Trial_acc('Fine_tuned_distil_roberta.model1.csv','Number of Trials vs Accruacy MP=30')\n"
   ]
  },
  {
   "cell_type": "code",
   "execution_count": 170,
   "metadata": {},
   "outputs": [
    {
     "data": {
      "text/plain": [
       "5     0.597921\n",
       "15    0.589845\n",
       "30    0.591462\n",
       "dtype: float64"
      ]
     },
     "execution_count": 170,
     "metadata": {},
     "output_type": "execute_result"
    }
   ],
   "source": [
    "accdf = pd.read_csv('baseline_lsa.csv')\n",
    "#boxplot = accdf.boxplot(column=['5', '30','50','90'])\n",
    "accdf.mean()"
   ]
  },
  {
   "cell_type": "code",
   "execution_count": 172,
   "metadata": {},
   "outputs": [
    {
     "data": {
      "text/html": [
       "<div>\n",
       "<style scoped>\n",
       "    .dataframe tbody tr th:only-of-type {\n",
       "        vertical-align: middle;\n",
       "    }\n",
       "\n",
       "    .dataframe tbody tr th {\n",
       "        vertical-align: top;\n",
       "    }\n",
       "\n",
       "    .dataframe thead th {\n",
       "        text-align: right;\n",
       "    }\n",
       "</style>\n",
       "<table border=\"1\" class=\"dataframe\">\n",
       "  <thead>\n",
       "    <tr style=\"text-align: right;\">\n",
       "      <th></th>\n",
       "      <th>Unnamed: 0</th>\n",
       "      <th>5</th>\n",
       "      <th>15</th>\n",
       "      <th>30</th>\n",
       "    </tr>\n",
       "  </thead>\n",
       "  <tbody>\n",
       "    <tr>\n",
       "      <th>count</th>\n",
       "      <td>84.000000</td>\n",
       "      <td>84.000000</td>\n",
       "      <td>84.000000</td>\n",
       "      <td>84.000000</td>\n",
       "    </tr>\n",
       "    <tr>\n",
       "      <th>mean</th>\n",
       "      <td>41.500000</td>\n",
       "      <td>0.597659</td>\n",
       "      <td>0.602781</td>\n",
       "      <td>0.602225</td>\n",
       "    </tr>\n",
       "    <tr>\n",
       "      <th>std</th>\n",
       "      <td>24.392622</td>\n",
       "      <td>0.097197</td>\n",
       "      <td>0.085292</td>\n",
       "      <td>0.086049</td>\n",
       "    </tr>\n",
       "    <tr>\n",
       "      <th>min</th>\n",
       "      <td>0.000000</td>\n",
       "      <td>0.356250</td>\n",
       "      <td>0.378125</td>\n",
       "      <td>0.394444</td>\n",
       "    </tr>\n",
       "    <tr>\n",
       "      <th>25%</th>\n",
       "      <td>20.750000</td>\n",
       "      <td>0.534295</td>\n",
       "      <td>0.550238</td>\n",
       "      <td>0.549819</td>\n",
       "    </tr>\n",
       "    <tr>\n",
       "      <th>50%</th>\n",
       "      <td>41.500000</td>\n",
       "      <td>0.611111</td>\n",
       "      <td>0.614722</td>\n",
       "      <td>0.612897</td>\n",
       "    </tr>\n",
       "    <tr>\n",
       "      <th>75%</th>\n",
       "      <td>62.250000</td>\n",
       "      <td>0.673295</td>\n",
       "      <td>0.664701</td>\n",
       "      <td>0.664228</td>\n",
       "    </tr>\n",
       "    <tr>\n",
       "      <th>max</th>\n",
       "      <td>83.000000</td>\n",
       "      <td>0.840816</td>\n",
       "      <td>0.739394</td>\n",
       "      <td>0.752381</td>\n",
       "    </tr>\n",
       "  </tbody>\n",
       "</table>\n",
       "</div>"
      ],
      "text/plain": [
       "       Unnamed: 0          5         15         30\n",
       "count   84.000000  84.000000  84.000000  84.000000\n",
       "mean    41.500000   0.597659   0.602781   0.602225\n",
       "std     24.392622   0.097197   0.085292   0.086049\n",
       "min      0.000000   0.356250   0.378125   0.394444\n",
       "25%     20.750000   0.534295   0.550238   0.549819\n",
       "50%     41.500000   0.611111   0.614722   0.612897\n",
       "75%     62.250000   0.673295   0.664701   0.664228\n",
       "max     83.000000   0.840816   0.739394   0.752381"
      ]
     },
     "execution_count": 172,
     "metadata": {},
     "output_type": "execute_result"
    }
   ],
   "source": [
    "accdf = pd.read_csv('Bert_baseline_sim.csv')\n",
    "#boxplot = accdf.boxplot(column=['5', '30','50','90'])\n",
    "accdf.describe()"
   ]
  },
  {
   "cell_type": "code",
   "execution_count": null,
   "metadata": {},
   "outputs": [],
   "source": [
    "#What makes end-user decide whether reply to the email?\n",
    "\n",
    "\n",
    "#Can we use the similarity between End-User response to model language similiarity? \n",
    "# individual differences are very large!\n"
   ]
  },
  {
   "cell_type": "code",
   "execution_count": 7,
   "metadata": {},
   "outputs": [
    {
     "data": {
      "text/plain": [
       "array([1.8 , 0.8 , 0.4 , 0.35, 0.1 ])"
      ]
     },
     "execution_count": 7,
     "metadata": {},
     "output_type": "execute_result"
    }
   ],
   "source": [
    "import numpy as np\n",
    "from sklearn import metrics\n",
    "y = np.array([1, 1, 2, 2])\n",
    "scores = np.array([0.1, 0.4, 0.35, 0.8])\n",
    "fpr, tpr, thresholds = metrics.roc_curve(y, scores, pos_label=2)\n",
    "fpr\n",
    "\n",
    "tpr\n",
    "\n",
    "thresholds"
   ]
  },
  {
   "cell_type": "code",
   "execution_count": 8,
   "metadata": {},
   "outputs": [
    {
     "data": {
      "text/plain": [
       "[<matplotlib.lines.Line2D at 0x2998d3ba0a0>]"
      ]
     },
     "execution_count": 8,
     "metadata": {},
     "output_type": "execute_result"
    },
    {
     "data": {
      "image/png": "[encoded data removed]",
      "text/plain": [
       "<Figure size 432x288 with 1 Axes>"
      ]
     },
     "metadata": {
      "needs_background": "light"
     },
     "output_type": "display_data"
    }
   ],
   "source": [
    "plt.plot(fpr,tpr)"
   ]
  },
  {
   "cell_type": "code",
   "execution_count": 11,
   "metadata": {},
   "outputs": [
    {
     "data": {
      "image/png": "[encoded data removed]",
      "text/plain": [
       "<Figure size 432x288 with 1 Axes>"
      ]
     },
     "metadata": {
      "needs_background": "light"
     },
     "output_type": "display_data"
    }
   ],
   "source": [
    "import matplotlib.pyplot as plt  \n",
    "from sklearn import datasets, metrics, model_selection, svm\n",
    "X, y = datasets.make_classification(random_state=0)\n",
    "X_train, X_test, y_train, y_test = model_selection.train_test_split(\n",
    "    X, y, random_state=0)\n",
    "clf = svm.SVC(random_state=0)\n",
    "clf.fit(X_train, y_train)\n",
    "\n",
    "metrics.plot_roc_curve(clf, X_test, y_test)  \n",
    "plt.show()     "
   ]
  },
  {
   "cell_type": "code",
   "execution_count": null,
   "metadata": {},
   "outputs": [],
   "source": []
  }
 ],
 "metadata": {
  "interpreter": {
   "hash": "18b8a6ab22c23ac88fce14986952a46f0d293914064547c699eac09fb58cfe0f"
  },
  "kernelspec": {
   "display_name": "Python 3",
   "language": "python",
   "name": "python3"
  },
  "language_info": {
   "codemirror_mode": {
    "name": "ipython",
    "version": 3
   },
   "file_extension": ".py",
   "mimetype": "text/x-python",
   "name": "python",
   "nbconvert_exporter": "python",
   "pygments_lexer": "ipython3",
   "version": "3.8.3"
  }
 },
 "nbformat": 4,
 "nbformat_minor": 4
}
